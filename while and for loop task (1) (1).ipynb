{
 "cells": [
  {
   "cell_type": "markdown",
   "id": "dc62581d",
   "metadata": {},
   "source": [
    "## Loop's(for and while) Task:-"
   ]
  },
  {
   "cell_type": "markdown",
   "id": "b4e207f4",
   "metadata": {},
   "source": [
    "Write a function that returns the longest sequence of consecutive zeroes in a binary string."
   ]
  },
  {
   "cell_type": "code",
   "execution_count": 1,
   "id": "547ee7c9",
   "metadata": {},
   "outputs": [
    {
     "name": "stdout",
     "output_type": "stream",
     "text": [
      "Enter binary sequence:100101\n",
      "The longest sequence of consecutive zeroes is: 2\n"
     ]
    }
   ],
   "source": [
    "binary_input = input('Enter binary sequence:')\n",
    "\n",
    "minimum = 0\n",
    "maximum = 0\n",
    "\n",
    "for digit in binary_input:\n",
    "    if digit == '0':\n",
    "        minimum += 1\n",
    "        maximum = max(maximum, minimum)\n",
    "    else:\n",
    "        minimum = 0\n",
    "\n",
    "print(f\"The longest sequence of consecutive zeroes is: {maximum}\")"
   ]
  },
  {
   "cell_type": "code",
   "execution_count": 2,
   "id": "fb5092cb",
   "metadata": {},
   "outputs": [
    {
     "name": "stdout",
     "output_type": "stream",
     "text": [
      "Enter binary sequence:10001001000001\n",
      "The longest sequence of consecutive zeroes is: 5\n"
     ]
    }
   ],
   "source": [
    "binary_input = input('Enter binary sequence:')\n",
    "\n",
    "minimum = 0\n",
    "maximum = 0\n",
    "\n",
    "for digit in binary_input:\n",
    "    if digit == '0':\n",
    "        minimum += 1\n",
    "        maximum = max(maximum, minimum)\n",
    "    else:\n",
    "        minimum = 0\n",
    "\n",
    "print(f\"The longest sequence of consecutive zeroes is: {maximum}\")"
   ]
  },
  {
   "cell_type": "markdown",
   "id": "fbb91a12",
   "metadata": {},
   "source": [
    "- Write a function that takes a string of one or more words as an argument and returns the same string, but with all five or more letter words reversed. Strings passed in will consist of only letters and spaces. Spaces will be included only when more than one word is present."
   ]
  },
  {
   "cell_type": "code",
   "execution_count": 3,
   "id": "a8921a59",
   "metadata": {},
   "outputs": [
    {
     "name": "stdout",
     "output_type": "stream",
     "text": [
      "Enter any sentence:cricket\n",
      "tekcirc\n"
     ]
    }
   ],
   "source": [
    "x = input('Enter any sentence:')\n",
    "\n",
    "words = x.split()\n",
    "result = []\n",
    "for word in words:\n",
    "    if len(word) >= 5:\n",
    "        result.append(word[::-1])\n",
    "    else:\n",
    "        result.append(word)\n",
    "\n",
    "output_text = ' '.join(result)\n",
    "print(output_text)\n"
   ]
  },
  {
   "cell_type": "code",
   "execution_count": 4,
   "id": "fae152cb",
   "metadata": {},
   "outputs": [
    {
     "name": "stdout",
     "output_type": "stream",
     "text": [
      "Enter any sentence:I am a Batsman\n",
      "I am a namstaB\n"
     ]
    }
   ],
   "source": [
    "x = input('Enter any sentence:')\n",
    "\n",
    "words = x.split()\n",
    "result = []\n",
    "for word in words:\n",
    "    if len(word) >= 5:\n",
    "        result.append(word[::-1])\n",
    "    else:\n",
    "        result.append(word)\n",
    "\n",
    "output_text = ' '.join(result)\n",
    "print(output_text)\n"
   ]
  },
  {
   "cell_type": "markdown",
   "id": "6589cf33",
   "metadata": {},
   "source": [
    "Create a function that returns the frequency distribution of a list. This function should return an object, where the keys are the unique elements and the values are the frequency in which those elements occur."
   ]
  },
  {
   "cell_type": "code",
   "execution_count": 5,
   "id": "2f7f341f",
   "metadata": {},
   "outputs": [
    {
     "name": "stdout",
     "output_type": "stream",
     "text": [
      "Enter any dictionary:\"A\", \"B\", \"A\", \"A\", \"A\"\n",
      "{'A': 4, 'B': 1}\n"
     ]
    }
   ],
   "source": [
    "input_dictionary = input('Enter any dictionary:')\n",
    "\n",
    "input_dict = eval(input_dictionary)\n",
    "\n",
    "def get_frequencies(lst):\n",
    "    freq_dict = {}\n",
    "    for item in lst:\n",
    "        if item in freq_dict:\n",
    "            freq_dict[item] += 1\n",
    "        else:\n",
    "            freq_dict[item] = 1\n",
    "    return freq_dict\n",
    "\n",
    "result = get_frequencies(input_dict)\n",
    "print(result)\n",
    "\n",
    "\n"
   ]
  },
  {
   "cell_type": "code",
   "execution_count": 6,
   "id": "c7a13d87",
   "metadata": {},
   "outputs": [
    {
     "name": "stdout",
     "output_type": "stream",
     "text": [
      "Enter any dictionary:\"A\", \"B\", \"A\", \"A\", \"A\"\n",
      "{'A': 4, 'B': 1}\n"
     ]
    }
   ],
   "source": [
    "input_dictionary = input('Enter any dictionary:')\n",
    "\n",
    "input_dict = eval(input_dictionary)\n",
    "\n",
    "def get_frequencies(lst):\n",
    "    freq_dict = {}\n",
    "    for item in lst:\n",
    "        if item in freq_dict:\n",
    "            freq_dict[item] += 1\n",
    "        else:\n",
    "            freq_dict[item] = 1\n",
    "    return freq_dict\n",
    "\n",
    "result = get_frequencies(input_dict)\n",
    "print(result)"
   ]
  },
  {
   "cell_type": "markdown",
   "id": "af6b2101",
   "metadata": {},
   "source": [
    "Create a function that takes a list of numbers and returns a list where each number is the sum of itself + all previous numbers in the list."
   ]
  },
  {
   "cell_type": "code",
   "execution_count": 7,
   "id": "d7fe394b",
   "metadata": {},
   "outputs": [
    {
     "name": "stdout",
     "output_type": "stream",
     "text": [
      "Enter any number:1, 2, 3\n",
      "[1, 3, 6]\n"
     ]
    }
   ],
   "source": [
    "cumulative_num = input('Enter any number:')\n",
    "nums = [int(x) for x in cumulative_num.split(',')] \n",
    "\n",
    "cumulative_list = []\n",
    "current_sum = 0\n",
    "for num in nums:\n",
    "    current_sum += num\n",
    "    cumulative_list.append(current_sum)\n",
    "\n",
    "print(cumulative_list)"
   ]
  },
  {
   "cell_type": "code",
   "execution_count": 8,
   "id": "c982c199",
   "metadata": {},
   "outputs": [
    {
     "name": "stdout",
     "output_type": "stream",
     "text": [
      "Enter any number:3, 3, -2, 408, 3, 3\n",
      "[3, 6, 4, 412, 415, 418]\n"
     ]
    }
   ],
   "source": [
    "cumulative_num = input('Enter any number:')\n",
    "nums = [int(x) for x in cumulative_num.split(',')] \n",
    "\n",
    "cumulative_list = []\n",
    "current_sum = 0\n",
    "for num in nums:\n",
    "    current_sum += num\n",
    "    cumulative_list.append(current_sum)\n",
    "\n",
    "print(cumulative_list)"
   ]
  },
  {
   "cell_type": "markdown",
   "id": "233401a4",
   "metadata": {},
   "source": [
    "Create a function that accepts a string as an argument and returns the first non-repeated character."
   ]
  },
  {
   "cell_type": "code",
   "execution_count": 9,
   "id": "4931a31e",
   "metadata": {},
   "outputs": [
    {
     "name": "stdout",
     "output_type": "stream",
     "text": [
      "Enter a string : CRICKET\n",
      "R\n"
     ]
    }
   ],
   "source": [
    "string= input(\"Enter a string : \") #input\n",
    "for i in string: \n",
    "    if string.count(i)==1: # if string count is equal to 1 \n",
    "        print(i) \n",
    "        break"
   ]
  },
  {
   "cell_type": "code",
   "execution_count": null,
   "id": "3b5b4d17",
   "metadata": {},
   "outputs": [
    {
     "name": "stdout",
     "output_type": "stream",
     "text": [
      "Enter string: cricket\n"
     ]
    }
   ],
   "source": [
    "str = input(\"Enter string: \")\n",
    "\n",
    "i = 0  # index\n",
    "while i < len(str): \n",
    "    char = str[i]\n",
    "    # check if the element is non-repeated \n",
    "    if str.count(char) == 1:\n",
    "        print(f\"non repeated character: {char}\")\n",
    "        found = True\n",
    "        break"
   ]
  },
  {
   "cell_type": "markdown",
   "id": "ddb45614",
   "metadata": {},
   "source": [
    "Create a function that returns True if an asterisk * is inside a box."
   ]
  },
  {
   "cell_type": "code",
   "execution_count": 1,
   "id": "ebbee6ba",
   "metadata": {},
   "outputs": [
    {
     "name": "stdout",
     "output_type": "stream",
     "text": [
      "Give a string: SureshRaina@\n",
      "True\n"
     ]
    }
   ],
   "source": [
    "s = input(\"Give a string: \")  # Input the string\n",
    "asterisk = False  \n",
    "for i in s:\n",
    "    if i == '@':\n",
    "        asterisk = True\n",
    "        break \n",
    "print(asterisk)"
   ]
  },
  {
   "cell_type": "code",
   "execution_count": 3,
   "id": "d9768b3f",
   "metadata": {},
   "outputs": [
    {
     "name": "stdout",
     "output_type": "stream",
     "text": [
      "Enter string: suresh raina\n"
     ]
    }
   ],
   "source": [
    "\n",
    "str = input(\"Enter string: \")\n",
    "i = 0  \n",
    "asterisk = False\n",
    "\n",
    "while i < len(str):\n",
    "    if str[i] == \"@\":    \n",
    "        asterisk = True\n",
    "        print(True)\n",
    "        break  \n",
    "    i+=1"
   ]
  },
  {
   "cell_type": "markdown",
   "id": "6c6517a5",
   "metadata": {},
   "source": [
    "Write a function that takes a list and returns a new list with unique positive (more than 0) numbers."
   ]
  },
  {
   "cell_type": "code",
   "execution_count": 18,
   "id": "8a675789",
   "metadata": {},
   "outputs": [
    {
     "name": "stdout",
     "output_type": "stream",
     "text": [
      "[1, 3, 4, 7, 8]\n"
     ]
    }
   ],
   "source": [
    "s = [1,3,4,-5,7,8]\n",
    "list = []   \n",
    "i = 0\n",
    "\n",
    "while i < len(s):\n",
    "    a = s[i]     \n",
    "    if a > 0:   \n",
    "        list.append(a)\n",
    "        \n",
    "    i += 1     \n",
    "print(list)"
   ]
  },
  {
   "cell_type": "markdown",
   "id": "2fc3256f",
   "metadata": {},
   "source": [
    "An employee working at a very bizarre company earns one penny on their first day. However, for every day that passes, their base amount doubles, so they earn two pennies on the second day and four pennies on the third day (totalling 7 pennies). Given a number of days, return how many pennies the employee accumulates."
   ]
  },
  {
   "cell_type": "code",
   "execution_count": 19,
   "id": "13982ea4",
   "metadata": {},
   "outputs": [
    {
     "name": "stdout",
     "output_type": "stream",
     "text": [
      "Enter no of days30\n",
      "The total pay after 30 days is 1073741823\n"
     ]
    }
   ],
   "source": [
    "num_days=int(input(\"Enter no of days\")) \n",
    "day_earn=1 \n",
    "total_pennies=0 \n",
    "for day in range(1,num_days+1):\n",
    "    total_pennies+=day_earn\n",
    "    day_earn*=2\n",
    "print(\"The total pay after {} days is {}\".format(num_days,total_pennies))"
   ]
  },
  {
   "cell_type": "code",
   "execution_count": 20,
   "id": "557447e2",
   "metadata": {},
   "outputs": [
    {
     "name": "stdout",
     "output_type": "stream",
     "text": [
      "Enter no of days: 30\n",
      "employee earns 16777215 after pennies 30 days.\n"
     ]
    }
   ],
   "source": [
    "\n",
    "p = int(input(\"Enter no of days: \"))\n",
    "a = 1 \n",
    "r = 2 \n",
    "sum = 0 \n",
    "\n",
    "while i < p:\n",
    "    sum = sum + a\n",
    "    a = a * r\n",
    "    i = i + 1\n",
    "    \n",
    "print(\"employee earns\", sum, \"after pennies\", p, \"days.\")"
   ]
  },
  {
   "cell_type": "markdown",
   "id": "a9a9f20f",
   "metadata": {},
   "source": [
    "reate a function that takes a string as an argument and converts the first character of each word to uppercase. Return the newly formatted string."
   ]
  },
  {
   "cell_type": "code",
   "execution_count": 21,
   "id": "861feec9",
   "metadata": {},
   "outputs": [
    {
     "name": "stdout",
     "output_type": "stream",
     "text": [
      "Give a string: Abraka dabra\n",
      "Abraka Dabra\n"
     ]
    }
   ],
   "source": [
    "string = input(\"Give a string: \")\n",
    "words = string.split() \n",
    "formatted_string = [] \n",
    "\n",
    "for word in words: \n",
    "    if word: \n",
    "        capitalize = word.title()\n",
    "        formatted_string.append(capitalize)\n",
    "    else:\n",
    "        formatted_string.append('') \n",
    "\n",
    "formatted_string = ' '.join(formatted_string)  \n",
    "print(formatted_string)"
   ]
  },
  {
   "cell_type": "code",
   "execution_count": 23,
   "id": "478b02de",
   "metadata": {},
   "outputs": [
    {
     "name": "stdout",
     "output_type": "stream",
     "text": [
      "Enter string: Abraka dabra\n",
      "\n"
     ]
    }
   ],
   "source": [
    "s = input(\"Enter string: \")\n",
    "a = s.split()  \n",
    "x = \"\"\n",
    "\n",
    "while i < len(a):\n",
    "    b = a[i].capitalize()  \n",
    "    x += b + \" \"\n",
    "    i += 1          \n",
    "print(x)  "
   ]
  },
  {
   "cell_type": "markdown",
   "id": "ed4a3426",
   "metadata": {},
   "source": [
    "Create a function that will remove the letters \"a\", \"b\" and \"c\" from the given string and return the modified version. If the given string does not contain \"a\", \"b\", or \"c\", return None."
   ]
  },
  {
   "cell_type": "code",
   "execution_count": 24,
   "id": "c70b116f",
   "metadata": {},
   "outputs": [
    {
     "name": "stdout",
     "output_type": "stream",
     "text": [
      "Enter a string: we are playing\n",
      "we  re pl ying\n"
     ]
    }
   ],
   "source": [
    "string = input(\"Enter a string: \") \n",
    "new_string=string \n",
    "for w in \"abc\":\n",
    "    new_string = new_string.replace(w, ' ') \n",
    "if new_string!=string:\n",
    "    print(new_string)\n",
    "else:\n",
    "    print(\"None\")"
   ]
  },
  {
   "cell_type": "code",
   "execution_count": 25,
   "id": "b19c86be",
   "metadata": {},
   "outputs": [
    {
     "name": "stdout",
     "output_type": "stream",
     "text": [
      "Enter string: we are playing cricket\n",
      "The modified string is:   we re plying riket\n"
     ]
    }
   ],
   "source": [
    "str = input(\"Enter string: \")\n",
    "modified = False\n",
    "i = 0\n",
    "while i < len(str):\n",
    "    if str[i] in \"abc\":\n",
    "        str = str[:i] + str[i+1:]\n",
    "        modified = True\n",
    "    else:\n",
    "        i += 1\n",
    "        \n",
    "if modified: \n",
    "    print(\"The modified string is:  \", str)\n",
    "else: \n",
    "    print(None)"
   ]
  },
  {
   "cell_type": "markdown",
   "id": "9676e1d2",
   "metadata": {},
   "source": [
    "Write a function that takes two lists and adds the first element in the first list with the first element in the second list, the second element in the first list with the second element in the second list, etc, etc. Return True if all element combinations add up to the same number. Otherwise, return False."
   ]
  },
  {
   "cell_type": "code",
   "execution_count": 26,
   "id": "3b554e55",
   "metadata": {},
   "outputs": [
    {
     "name": "stdout",
     "output_type": "stream",
     "text": [
      "Enter the first list: 1234\n",
      "Enter the second list: 5678\n",
      "6912\n"
     ]
    }
   ],
   "source": [
    "input_str = input(\"Enter the first list: \")\n",
    "list1 = [int(x) for x in input_str.split()]\n",
    "list=input_str.split()\n",
    "input_str = input(\"Enter the second list: \")\n",
    "list2 = [int(x) for x in input_str.split()]\n",
    "\n",
    "if len(list1) != len(list2):\n",
    "    print(False)\n",
    "else:\n",
    "    total = list1[0] + list2[0]\n",
    "    are_equal = True\n",
    "\n",
    "    for i in range(1, len(list1)):\n",
    "        if list1[i] + list2[i] != total:\n",
    "            are_equal = False\n",
    "            break\n",
    "    print(total)"
   ]
  },
  {
   "cell_type": "code",
   "execution_count": 27,
   "id": "54c77e9e",
   "metadata": {},
   "outputs": [
    {
     "name": "stdout",
     "output_type": "stream",
     "text": [
      "[12453]\n"
     ]
    }
   ],
   "source": [
    "list1 = [5864]\n",
    "list2 = [6589]\n",
    "\n",
    "l = []  \n",
    "i = 0\n",
    "\n",
    "while i < len(list1):\n",
    "    l.append(list1[i] + list2[i])  \n",
    "    i +=1    \n",
    "    \n",
    "print(l)\n"
   ]
  },
  {
   "cell_type": "markdown",
   "id": "474da68b",
   "metadata": {},
   "source": [
    "create a function that takes a string and returns a new string with each new character accumulating by +1. Separate each set with a dash."
   ]
  },
  {
   "cell_type": "code",
   "execution_count": 28,
   "id": "a3be6b3a",
   "metadata": {},
   "outputs": [
    {
     "name": "stdout",
     "output_type": "stream",
     "text": [
      "Enter a string: Arun\n",
      "A-Rr-Uuu-Nnnn\n"
     ]
    }
   ],
   "source": [
    "s = input(\"Enter a string: \")\n",
    "new_string = [] \n",
    "\n",
    "for i in range(len(s)): \n",
    "    new_string.append(s[i].upper() + s[i].lower() * i) \n",
    "\n",
    "r = '-'.join(new_string) \n",
    "print(r)"
   ]
  },
  {
   "cell_type": "markdown",
   "id": "24a24d2d",
   "metadata": {},
   "source": [
    "Write a function that returns the position of the second occurrence of \"zip\" in a string, or -1 if it does not occur at least twice. Your code should be general enough to pass every possible case where \"zip\" can occur in a string."
   ]
  },
  {
   "cell_type": "code",
   "execution_count": 29,
   "id": "ef622bd2",
   "metadata": {},
   "outputs": [
    {
     "name": "stdout",
     "output_type": "stream",
     "text": [
      "Enter string: sipsispsss\n",
      "-1\n"
     ]
    }
   ],
   "source": [
    "str = input(\"Enter string: \")\n",
    "count = 0\n",
    "i = 0\n",
    "for i in range(len(str)):\n",
    "    if str[i:i+3] == \"sip\":\n",
    "        count += 1\n",
    "        if count == 2:\n",
    "            print(i)\n",
    "            break\n",
    "    i += 1\n",
    "else:\n",
    "    print(-1)"
   ]
  },
  {
   "cell_type": "code",
   "execution_count": 30,
   "id": "30d8fdff",
   "metadata": {},
   "outputs": [
    {
     "name": "stdout",
     "output_type": "stream",
     "text": [
      "Enter string: Hello\n",
      "-1\n"
     ]
    }
   ],
   "source": [
    "str = input(\"Enter string: \")\n",
    "i = 0\n",
    "count = 0\n",
    "while i < len(str):\n",
    "    if str[i:i+3] == \"sip\":   \n",
    "        count += 1\n",
    "        \n",
    "        if count == 2:\n",
    "           \n",
    "            print(i)\n",
    "            break\n",
    "    i += 1\n",
    "else:\n",
    "    print(-1)"
   ]
  },
  {
   "cell_type": "code",
   "execution_count": 31,
   "id": "c31d12dd",
   "metadata": {},
   "outputs": [
    {
     "name": "stdout",
     "output_type": "stream",
     "text": [
      "Enter string: Hello\n",
      "hello\n"
     ]
    }
   ],
   "source": [
    "str = input(\"Enter string: \")\n",
    "i = 1\n",
    "\n",
    "while i < len(str):\n",
    "    \n",
    "    if str[i].isupper():\n",
    "        str = str[:i] + \" \" + str[i:]  \n",
    "        i += 2\n",
    "    else:\n",
    "        i += 1\n",
    "str = str.lower()  \n",
    "print(str)"
   ]
  },
  {
   "cell_type": "markdown",
   "id": "186e7a6d",
   "metadata": {},
   "source": [
    "Create a function that counts the integer's number of digits."
   ]
  },
  {
   "cell_type": "code",
   "execution_count": 33,
   "id": "5a7348bb",
   "metadata": {},
   "outputs": [
    {
     "name": "stdout",
     "output_type": "stream",
     "text": [
      "Enter integer values: 12345689\n",
      "8\n"
     ]
    }
   ],
   "source": [
    "x = int(input(\"Enter integer values: \"))\n",
    "count = 0\n",
    "\n",
    "while x > 0:\n",
    "    x //= 10 \n",
    "    count += 1\n",
    "    \n",
    "\n",
    "print(count)"
   ]
  },
  {
   "cell_type": "markdown",
   "id": "f6055711",
   "metadata": {},
   "source": [
    "12345689"
   ]
  },
  {
   "cell_type": "markdown",
   "id": "61829c55",
   "metadata": {},
   "source": [
    "Create a function that performs an even-odd transform to a list, n times. Each even-odd transformation:\n",
    "Adds two (+2) to each odd integer.\n",
    "Subtracts two (-2) from each even integer."
   ]
  },
  {
   "cell_type": "code",
   "execution_count": 34,
   "id": "91d8ac55",
   "metadata": {},
   "outputs": [
    {
     "name": "stdout",
     "output_type": "stream",
     "text": [
      "[-6, -2, -8, 19, -4]\n"
     ]
    }
   ],
   "source": [
    "l=[4,8,2,9,6] \n",
    "n=5 \n",
    "for _ in range(n):\n",
    "    for i in range(len(l)):\n",
    "        if l[i]%2==0: \n",
    "            l[i] -=2 \n",
    "        else:\n",
    "            l[i] +=2 \n",
    "print(l)\n"
   ]
  },
  {
   "cell_type": "code",
   "execution_count": 35,
   "id": "8819bc1b",
   "metadata": {},
   "outputs": [
    {
     "name": "stdout",
     "output_type": "stream",
     "text": [
      "[3, 0, 5, 2, 7, 4, 9, 6, 11, 8]\n"
     ]
    }
   ],
   "source": [
    "list = [1,2,3,4,5,6,7,8,9,10]\n",
    "\n",
    "n = 3  \n",
    "i = 0\n",
    "\n",
    "while i < n:\n",
    "    for i in range(len(list)):\n",
    "     \n",
    "        if list[i]%2 != 0:\n",
    "            list[i] += 2  \n",
    "        else:\n",
    "            list[i] -= 2   \n",
    "    i += 1\n",
    "print(list)"
   ]
  },
  {
   "cell_type": "markdown",
   "id": "017c7743",
   "metadata": {},
   "source": [
    "Given a string containing unique letters, return a sorted string with the letters that don't appear in the string."
   ]
  },
  {
   "cell_type": "code",
   "execution_count": 36,
   "id": "ac72b049",
   "metadata": {},
   "outputs": [
    {
     "name": "stdout",
     "output_type": "stream",
     "text": [
      "Enter a string:happy\n",
      "bcdefgijklmnoqrstuvwxz\n"
     ]
    }
   ],
   "source": [
    "s=input(\"Enter a string:\")\n",
    "unique_letters=set(s)\n",
    "ml=\"\"\n",
    "for letter in 'abcdefghijklmnopqrstuvwxyz':\n",
    "    if letter not in unique_letters:\n",
    "        ml +=letter\n",
    "r= ''.join(sorted(ml))\n",
    "print(r)\n"
   ]
  },
  {
   "cell_type": "code",
   "execution_count": 37,
   "id": "9e53ff6b",
   "metadata": {},
   "outputs": [
    {
     "name": "stdout",
     "output_type": "stream",
     "text": [
      "Enter string: happy birthday\n",
      "['c', 'e', 'f', 'g', 'j', 'k', 'k', 'l', 'm', 'n', 'o', 'q', 's', 'u', 'v', 'w', 'x', 'z']\n"
     ]
    }
   ],
   "source": [
    "str = input(\"Enter string: \")\n",
    "\n",
    "alpha = 'abcdefghijkklmnopqrstuvwxyz'\n",
    "i = 0\n",
    "x = \"\"    \n",
    "while i < len(alpha):\n",
    "   \n",
    "    if alpha[i] not in str:\n",
    "        x += alpha[i]\n",
    "    i += 1\n",
    "print(sorted(x))"
   ]
  },
  {
   "cell_type": "markdown",
   "id": "743dc08a",
   "metadata": {},
   "source": [
    "You are given one input: a list containing eight 1's and/or 0's. Write a function that takes an 8 bit binary number and converts it to decimal."
   ]
  },
  {
   "cell_type": "code",
   "execution_count": 4,
   "id": "b257c792",
   "metadata": {},
   "outputs": [
    {
     "name": "stdout",
     "output_type": "stream",
     "text": [
      "Enter number: 1111\n",
      "15\n"
     ]
    }
   ],
   "source": [
    "\n",
    "x = input(\"Enter number: \")\n",
    "decimal = 0   \n",
    "\n",
    "for i in range(len(x)):\n",
    "    decimal += int(x[i]) * (2 ** (len(x) - i - 1))\n",
    "    \n",
    "\n",
    "print(decimal)\n"
   ]
  },
  {
   "cell_type": "markdown",
   "id": "83514814",
   "metadata": {},
   "source": [
    "Write a function that finds the largest even number in a list. Return -1 if not found. The use of built-in functions max() and sorted() are prohibited."
   ]
  },
  {
   "cell_type": "code",
   "execution_count": 5,
   "id": "fdb9136b",
   "metadata": {},
   "outputs": [
    {
     "name": "stdout",
     "output_type": "stream",
     "text": [
      "100\n"
     ]
    }
   ],
   "source": [
    "list = [12,34,22,21,65,88,99,100]\n",
    "largest_even = -1  \n",
    "\n",
    "for num in list:\n",
    "   \n",
    "    if num % 2 == 0 and num > largest_even:\n",
    "        largest_even = num\n",
    "print(largest_even)"
   ]
  },
  {
   "cell_type": "code",
   "execution_count": 41,
   "id": "804fdc11",
   "metadata": {},
   "outputs": [
    {
     "name": "stdout",
     "output_type": "stream",
     "text": [
      "6\n"
     ]
    }
   ],
   "source": [
    "list = [1,2,3,4,5,6,7,9,11]\n",
    "i = 0\n",
    "largest_even = -1   \n",
    "while i < len(list):\n",
    "  \n",
    "    if list[i] % 2 == 0 and list[i] > largest_even:\n",
    "        largest_even = list[i]\n",
    "    i += 1\n",
    "    \n",
    "\n",
    "if largest_even == -1:\n",
    "    print(-1)\n",
    "else:\n",
    "    print(largest_even)\n",
    "    "
   ]
  },
  {
   "cell_type": "code",
   "execution_count": null,
   "id": "423d0fa8",
   "metadata": {},
   "outputs": [],
   "source": []
  }
 ],
 "metadata": {
  "kernelspec": {
   "display_name": "Python 3 (ipykernel)",
   "language": "python",
   "name": "python3"
  },
  "language_info": {
   "codemirror_mode": {
    "name": "ipython",
    "version": 3
   },
   "file_extension": ".py",
   "mimetype": "text/x-python",
   "name": "python",
   "nbconvert_exporter": "python",
   "pygments_lexer": "ipython3",
   "version": "3.11.5"
  }
 },
 "nbformat": 4,
 "nbformat_minor": 5
}
