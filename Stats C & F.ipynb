{
 "cells": [
  {
   "cell_type": "code",
   "execution_count": 25,
   "id": "ccaf5745",
   "metadata": {},
   "outputs": [],
   "source": [
    "import pandas as pd, numpy as np\n",
    "class DataSetStatistics:\n",
    "    def __init__(self, data):\n",
    "        self.data = data.select_dtypes(include='number')\n",
    "        self.length = len(self.data)\n",
    "    \n",
    "\n",
    "\n",
    "    def arithmetic_mean(self, column_name):\n",
    "        if column_name in self.data.columns:\n",
    "            column_data = self.data[column_name]\n",
    "            numeric_data = pd.to_numeric(column_data, errors='coerce')\n",
    "            valid_numeric_data = numeric_data.dropna()\n",
    "\n",
    "            sum_val = 0\n",
    "            count = 0\n",
    "            for val in numeric_data:\n",
    "                sum_val += val\n",
    "                count += 1\n",
    "\n",
    "            return sum_val / count if count > 0 else 0  \n",
    "        else:\n",
    "            return None \n",
    "    \n",
    "\n",
    "    def geometric_mean(self, column_name):\n",
    "        if column_name in self.data.columns:\n",
    "            column_data = self.data[column_name]\n",
    "            numeric_data = pd.to_numeric(column_data, errors='coerce')\n",
    "            valid_numeric_data = numeric_data.dropna()\n",
    "            product = np.prod(numeric_data)\n",
    "            return (product ** (1 / len(numeric_data))) if len(numeric_data) > 0 else 0  \n",
    "        else:\n",
    "            return None  \n",
    "    def harmonic_mean(self, column_name):\n",
    "        if column_name in self.data.columns:\n",
    "            column_data = self.data[column_name]\n",
    "            numeric_data = pd.to_numeric(column_data, errors='coerce')\n",
    "            valid_numeric_data = numeric_data.dropna()\n",
    "\n",
    "            if 0 in numeric_data.values:\n",
    "                return 0  \n",
    "            return len(numeric_data) / sum(1 / num for num in numeric_data) if len(numeric_data) > 0 else 0\n",
    "        else:\n",
    "            return None\n",
    "        \n",
    "        \n",
    "    def median(self, column_name):\n",
    "        if column_name in self.data.columns:\n",
    "            column_data = sorted(self.data[column_name])\n",
    "            n = len(column_data)\n",
    "            if n % 2 == 0:\n",
    "                median_value = (column_data[n // 2 - 1] + column_data[n // 2]) / 2\n",
    "            else:\n",
    "                median_value = column_data[n // 2]\n",
    "            return median_value\n",
    "        else:\n",
    "            return None \n",
    "    def variance(self, column_name):\n",
    "        if column_name in self.data.columns:\n",
    "            column_data = self.data[column_name]\n",
    "            numeric_data = pd.to_numeric(column_data, errors='coerce')\n",
    "            valid_numeric_data = numeric_data.dropna()\n",
    "        \n",
    "            mean = self.arithmetic_mean(column_name)  \n",
    "            sum_squared_diff = sum((x - mean) ** 2 for x in numeric_data)  \n",
    "\n",
    "            return sum_squared_diff / len(numeric_data) if len(numeric_data) > 0 else 0  \n",
    "        else:\n",
    "            return None\n",
    "    def mode(self, column_name):\n",
    "        freq = {}\n",
    "        for num in self.data[column_name]:\n",
    "            if num not in freq:\n",
    "                freq[num] = 1\n",
    "            else:\n",
    "                freq[num] += 1\n",
    "        mode_value = max(freq, key=freq.get)\n",
    "        return mode_value\n",
    "    \n",
    "    def standard_deviation(self, column_name):\n",
    "        return self.variance(column_name) ** 0.5\n",
    "    \n",
    "    def max_vlaue(self, column_name):\n",
    "        return max(self.data[column_name])\n",
    "\n",
    "    def min_vlaue(self, column_name):\n",
    "        return min(self.data[column_name])\n",
    "    \n",
    "    def range_value(self, column_name):\n",
    "        max_value = max(self.data[column_name])\n",
    "        min_value = min(self.data[column_name])\n",
    "\n",
    "        range_value = max_value - min_value\n",
    "        return range_value\n",
    "    def iqr(self, column_name):\n",
    "        values = list(self.data[column_name])\n",
    "        n = len(values)\n",
    "        for i in range(n):\n",
    "            for j in range(0, n - i - 1):\n",
    "                if values[j] > values[j + 1]:\n",
    "                    values[j], values[j + 1] = values[j + 1], values[j]\n",
    "\n",
    "        q1_index = n // 4\n",
    "        q3_index = n * 3 // 4\n",
    "\n",
    "        q1 = values[q1_index]\n",
    "        q3 = values[q3_index]\n",
    "\n",
    "        return q3 - q1\n",
    "    \n",
    "    def quartiles(self, column_name):\n",
    "        column = self.data[column_name]\n",
    "        q1_index = len(column) // 4\n",
    "        q2_index = len(column) // 2\n",
    "        q3_index = len(column) * 3 // 4\n",
    "        \n",
    "        q1 = column[q1_index]\n",
    "        q2 = column[q2_index]\n",
    "        q3 = column[q3_index]\n",
    "\n",
    "        return q1, q2, q3\n",
    "    def coefficient_of_range(self, column_name):\n",
    "        max_value = max(self.data[column_name])\n",
    "        min_value = min(self.data[column_name])\n",
    "        range_value = max_value - min_value\n",
    "        coefficient_of_range_value = range_value / (max_value + min_value)\n",
    "        return coefficient_of_range_value\n",
    "    \n",
    "    def coefficient_of_variation(self, column_name):\n",
    "        return self.standard_deviation(column_name) / self.arithmetic_mean(column_name)\n",
    "    \n",
    "    def coefficient_of_standard_deviation(self, column_name):\n",
    "        mean = sum(self.data[column_name]) / len(self.data[column_name])\n",
    "        std_dev = (sum((x - mean) ** 2 for x in self.data[column_name]) / len(self.data[column_name])) ** 0.5\n",
    "        max_value = max(self.data[column_name])\n",
    "        min_value = min(self.data[column_name])\n",
    "        range_value = max_value - min_value\n",
    "        coefficient_of_std_dev_value = std_dev / range_value\n",
    "        return coefficient_of_std_dev_value\n"
   ]
  },
  {
   "cell_type": "code",
   "execution_count": 26,
   "id": "8e8ac387",
   "metadata": {},
   "outputs": [
    {
     "data": {
      "text/plain": [
       "3.0540000000000007"
      ]
     },
     "execution_count": 26,
     "metadata": {},
     "output_type": "execute_result"
    }
   ],
   "source": [
    "data = pd.read_csv(r'G:\\Iris.csv')\n",
    "statistics = DataSetStatistics(data)\n",
    "\n",
    "statistics.arithmetic_mean('SepalWidthCm')"
   ]
  },
  {
   "cell_type": "code",
   "execution_count": 27,
   "id": "818c3e92",
   "metadata": {},
   "outputs": [
    {
     "data": {
      "text/plain": [
       "3.0235822036025914"
      ]
     },
     "execution_count": 27,
     "metadata": {},
     "output_type": "execute_result"
    }
   ],
   "source": [
    "statistics.geometric_mean('SepalWidthCm')"
   ]
  },
  {
   "cell_type": "code",
   "execution_count": 28,
   "id": "fa9c52de",
   "metadata": {},
   "outputs": [
    {
     "data": {
      "text/plain": [
       "2.9931367940540596"
      ]
     },
     "execution_count": 28,
     "metadata": {},
     "output_type": "execute_result"
    }
   ],
   "source": [
    "statistics.harmonic_mean('SepalWidthCm')"
   ]
  },
  {
   "cell_type": "code",
   "execution_count": 29,
   "id": "f2b7f66a",
   "metadata": {},
   "outputs": [
    {
     "data": {
      "text/plain": [
       "3.0"
      ]
     },
     "execution_count": 29,
     "metadata": {},
     "output_type": "execute_result"
    }
   ],
   "source": [
    "statistics.median('SepalWidthCm')"
   ]
  },
  {
   "cell_type": "code",
   "execution_count": 31,
   "id": "1eef122c",
   "metadata": {},
   "outputs": [
    {
     "data": {
      "text/plain": [
       "0.1867506666666667"
      ]
     },
     "execution_count": 31,
     "metadata": {},
     "output_type": "execute_result"
    }
   ],
   "source": [
    "statistics.variance('SepalWidthCm')"
   ]
  },
  {
   "cell_type": "code",
   "execution_count": 32,
   "id": "1d1ab2b8",
   "metadata": {},
   "outputs": [
    {
     "data": {
      "text/plain": [
       "3.0"
      ]
     },
     "execution_count": 32,
     "metadata": {},
     "output_type": "execute_result"
    }
   ],
   "source": [
    "statistics.mode('SepalWidthCm')"
   ]
  },
  {
   "cell_type": "code",
   "execution_count": 33,
   "id": "02224932",
   "metadata": {},
   "outputs": [
    {
     "data": {
      "text/plain": [
       "0.4321465800705435"
      ]
     },
     "execution_count": 33,
     "metadata": {},
     "output_type": "execute_result"
    }
   ],
   "source": [
    "statistics.standard_deviation('SepalWidthCm')"
   ]
  },
  {
   "cell_type": "code",
   "execution_count": 34,
   "id": "add34b45",
   "metadata": {},
   "outputs": [
    {
     "data": {
      "text/plain": [
       "4.4"
      ]
     },
     "execution_count": 34,
     "metadata": {},
     "output_type": "execute_result"
    }
   ],
   "source": [
    "statistics.max_vlaue('SepalWidthCm')"
   ]
  },
  {
   "cell_type": "code",
   "execution_count": 35,
   "id": "ee9a8257",
   "metadata": {},
   "outputs": [
    {
     "data": {
      "text/plain": [
       "2.0"
      ]
     },
     "execution_count": 35,
     "metadata": {},
     "output_type": "execute_result"
    }
   ],
   "source": [
    "statistics.min_vlaue('SepalWidthCm')"
   ]
  },
  {
   "cell_type": "code",
   "execution_count": 36,
   "id": "16473d25",
   "metadata": {},
   "outputs": [
    {
     "data": {
      "text/plain": [
       "2.4000000000000004"
      ]
     },
     "execution_count": 36,
     "metadata": {},
     "output_type": "execute_result"
    }
   ],
   "source": [
    "statistics.range_value('SepalWidthCm')"
   ]
  },
  {
   "cell_type": "code",
   "execution_count": 37,
   "id": "fdeda09c",
   "metadata": {},
   "outputs": [
    {
     "data": {
      "text/plain": [
       "0.5"
      ]
     },
     "execution_count": 37,
     "metadata": {},
     "output_type": "execute_result"
    }
   ],
   "source": [
    "statistics.iqr('SepalWidthCm')"
   ]
  },
  {
   "cell_type": "code",
   "execution_count": 38,
   "id": "3605aa3d",
   "metadata": {},
   "outputs": [
    {
     "data": {
      "text/plain": [
       "(3.1, 3.0, 3.0)"
      ]
     },
     "execution_count": 38,
     "metadata": {},
     "output_type": "execute_result"
    }
   ],
   "source": [
    "statistics.quartiles('SepalWidthCm')"
   ]
  },
  {
   "cell_type": "code",
   "execution_count": 39,
   "id": "60680ac2",
   "metadata": {},
   "outputs": [
    {
     "data": {
      "text/plain": [
       "0.37500000000000006"
      ]
     },
     "execution_count": 39,
     "metadata": {},
     "output_type": "execute_result"
    }
   ],
   "source": [
    "statistics.coefficient_of_range('SepalWidthCm')"
   ]
  },
  {
   "cell_type": "code",
   "execution_count": 40,
   "id": "d60691a8",
   "metadata": {},
   "outputs": [
    {
     "data": {
      "text/plain": [
       "0.14150182713508297"
      ]
     },
     "execution_count": 40,
     "metadata": {},
     "output_type": "execute_result"
    }
   ],
   "source": [
    "statistics.coefficient_of_variation('SepalWidthCm')"
   ]
  },
  {
   "cell_type": "code",
   "execution_count": 41,
   "id": "2fc2428d",
   "metadata": {},
   "outputs": [
    {
     "data": {
      "text/plain": [
       "0.18006107502939311"
      ]
     },
     "execution_count": 41,
     "metadata": {},
     "output_type": "execute_result"
    }
   ],
   "source": [
    "statistics.coefficient_of_standard_deviation('SepalWidthCm')"
   ]
  },
  {
   "cell_type": "code",
   "execution_count": null,
   "id": "e63c31d2",
   "metadata": {},
   "outputs": [],
   "source": []
  }
 ],
 "metadata": {
  "kernelspec": {
   "display_name": "Python 3 (ipykernel)",
   "language": "python",
   "name": "python3"
  },
  "language_info": {
   "codemirror_mode": {
    "name": "ipython",
    "version": 3
   },
   "file_extension": ".py",
   "mimetype": "text/x-python",
   "name": "python",
   "nbconvert_exporter": "python",
   "pygments_lexer": "ipython3",
   "version": "3.11.5"
  }
 },
 "nbformat": 4,
 "nbformat_minor": 5
}
