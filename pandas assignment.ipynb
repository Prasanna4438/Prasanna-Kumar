{
 "cells": [
  {
   "cell_type": "code",
   "execution_count": 11,
   "id": "633b4470",
   "metadata": {},
   "outputs": [],
   "source": [
    "import pandas as pd\n",
    "import numpy as np"
   ]
  },
  {
   "cell_type": "code",
   "execution_count": 12,
   "id": "04eb2fce",
   "metadata": {},
   "outputs": [],
   "source": [
    "fpath = (\"Sample_data.csv\")"
   ]
  },
  {
   "cell_type": "code",
   "execution_count": 14,
   "id": "de581665",
   "metadata": {},
   "outputs": [],
   "source": [
    "data = pd.read_csv(r\"G:Sample_data.csv\")"
   ]
  },
  {
   "cell_type": "code",
   "execution_count": 15,
   "id": "d35c9c68",
   "metadata": {
    "scrolled": true
   },
   "outputs": [
    {
     "data": {
      "text/html": [
       "<div>\n",
       "<style scoped>\n",
       "    .dataframe tbody tr th:only-of-type {\n",
       "        vertical-align: middle;\n",
       "    }\n",
       "\n",
       "    .dataframe tbody tr th {\n",
       "        vertical-align: top;\n",
       "    }\n",
       "\n",
       "    .dataframe thead th {\n",
       "        text-align: right;\n",
       "    }\n",
       "</style>\n",
       "<table border=\"1\" class=\"dataframe\">\n",
       "  <thead>\n",
       "    <tr style=\"text-align: right;\">\n",
       "      <th></th>\n",
       "      <th>Unnamed: 0</th>\n",
       "      <th>ProductA</th>\n",
       "      <th>ProductB</th>\n",
       "    </tr>\n",
       "  </thead>\n",
       "  <tbody>\n",
       "    <tr>\n",
       "      <th>0</th>\n",
       "      <td>0</td>\n",
       "      <td>25</td>\n",
       "      <td>40</td>\n",
       "    </tr>\n",
       "    <tr>\n",
       "      <th>1</th>\n",
       "      <td>1</td>\n",
       "      <td>30</td>\n",
       "      <td>35</td>\n",
       "    </tr>\n",
       "    <tr>\n",
       "      <th>2</th>\n",
       "      <td>2</td>\n",
       "      <td>28</td>\n",
       "      <td>38</td>\n",
       "    </tr>\n",
       "    <tr>\n",
       "      <th>3</th>\n",
       "      <td>3</td>\n",
       "      <td>32</td>\n",
       "      <td>41</td>\n",
       "    </tr>\n",
       "    <tr>\n",
       "      <th>4</th>\n",
       "      <td>4</td>\n",
       "      <td>26</td>\n",
       "      <td>37</td>\n",
       "    </tr>\n",
       "    <tr>\n",
       "      <th>5</th>\n",
       "      <td>5</td>\n",
       "      <td>29</td>\n",
       "      <td>36</td>\n",
       "    </tr>\n",
       "    <tr>\n",
       "      <th>6</th>\n",
       "      <td>6</td>\n",
       "      <td>27</td>\n",
       "      <td>39</td>\n",
       "    </tr>\n",
       "    <tr>\n",
       "      <th>7</th>\n",
       "      <td>7</td>\n",
       "      <td>33</td>\n",
       "      <td>42</td>\n",
       "    </tr>\n",
       "    <tr>\n",
       "      <th>8</th>\n",
       "      <td>8</td>\n",
       "      <td>31</td>\n",
       "      <td>38</td>\n",
       "    </tr>\n",
       "    <tr>\n",
       "      <th>9</th>\n",
       "      <td>9</td>\n",
       "      <td>28</td>\n",
       "      <td>37</td>\n",
       "    </tr>\n",
       "    <tr>\n",
       "      <th>10</th>\n",
       "      <td>10</td>\n",
       "      <td>30</td>\n",
       "      <td>40</td>\n",
       "    </tr>\n",
       "    <tr>\n",
       "      <th>11</th>\n",
       "      <td>11</td>\n",
       "      <td>29</td>\n",
       "      <td>36</td>\n",
       "    </tr>\n",
       "  </tbody>\n",
       "</table>\n",
       "</div>"
      ],
      "text/plain": [
       "    Unnamed: 0  ProductA  ProductB\n",
       "0            0        25        40\n",
       "1            1        30        35\n",
       "2            2        28        38\n",
       "3            3        32        41\n",
       "4            4        26        37\n",
       "5            5        29        36\n",
       "6            6        27        39\n",
       "7            7        33        42\n",
       "8            8        31        38\n",
       "9            9        28        37\n",
       "10          10        30        40\n",
       "11          11        29        36"
      ]
     },
     "execution_count": 15,
     "metadata": {},
     "output_type": "execute_result"
    }
   ],
   "source": [
    "data"
   ]
  },
  {
   "cell_type": "markdown",
   "id": "44a02db0",
   "metadata": {},
   "source": [
    " 1) Calculate the mean sales for Product A and Product B. Compare the average monthly sales for the two products and discuss any observed trends."
   ]
  },
  {
   "cell_type": "code",
   "execution_count": 18,
   "id": "7eeb51ef",
   "metadata": {},
   "outputs": [
    {
     "data": {
      "text/plain": [
       "Unnamed: 0     5.50\n",
       "ProductA      29.00\n",
       "ProductB      38.25\n",
       "dtype: float64"
      ]
     },
     "execution_count": 18,
     "metadata": {},
     "output_type": "execute_result"
    }
   ],
   "source": [
    "data.mean()"
   ]
  },
  {
   "cell_type": "markdown",
   "id": "437de32e",
   "metadata": {},
   "source": [
    "## The comparison indicates that product B has a consistently higher average monthly sales figure compared to product A."
   ]
  },
  {
   "cell_type": "markdown",
   "id": "fcaaa60a",
   "metadata": {},
   "source": [
    "2) Find the median sales for each product and discuss how it reflects the central tendency of the sales distribution."
   ]
  },
  {
   "cell_type": "code",
   "execution_count": 19,
   "id": "76dcc4f8",
   "metadata": {},
   "outputs": [
    {
     "data": {
      "text/plain": [
       "Unnamed: 0     5.5\n",
       "ProductA      29.0\n",
       "ProductB      38.0\n",
       "dtype: float64"
      ]
     },
     "execution_count": 19,
     "metadata": {},
     "output_type": "execute_result"
    }
   ],
   "source": [
    "data.median()"
   ]
  },
  {
   "cell_type": "markdown",
   "id": "dec6dde6",
   "metadata": {},
   "source": [
    "- In conclusion, while both products demonstrate a relatively balanced sales distribution around their respective medians, the difference in the median values implies that Product B generally achieves higher sales figures than Product A in the observed data."
   ]
  },
  {
   "cell_type": "markdown",
   "id": "8ea2e225",
   "metadata": {},
   "source": [
    "3) Identify the mode of the sales data for both Product A and Product B. Discuss the significance of the mode in the context of these products."
   ]
  },
  {
   "cell_type": "code",
   "execution_count": 22,
   "id": "f94a3946",
   "metadata": {},
   "outputs": [
    {
     "data": {
      "text/html": [
       "<div>\n",
       "<style scoped>\n",
       "    .dataframe tbody tr th:only-of-type {\n",
       "        vertical-align: middle;\n",
       "    }\n",
       "\n",
       "    .dataframe tbody tr th {\n",
       "        vertical-align: top;\n",
       "    }\n",
       "\n",
       "    .dataframe thead th {\n",
       "        text-align: right;\n",
       "    }\n",
       "</style>\n",
       "<table border=\"1\" class=\"dataframe\">\n",
       "  <thead>\n",
       "    <tr style=\"text-align: right;\">\n",
       "      <th></th>\n",
       "      <th>Unnamed: 0</th>\n",
       "      <th>ProductA</th>\n",
       "      <th>ProductB</th>\n",
       "    </tr>\n",
       "  </thead>\n",
       "  <tbody>\n",
       "    <tr>\n",
       "      <th>0</th>\n",
       "      <td>0</td>\n",
       "      <td>28.0</td>\n",
       "      <td>36.0</td>\n",
       "    </tr>\n",
       "    <tr>\n",
       "      <th>1</th>\n",
       "      <td>1</td>\n",
       "      <td>29.0</td>\n",
       "      <td>37.0</td>\n",
       "    </tr>\n",
       "    <tr>\n",
       "      <th>2</th>\n",
       "      <td>2</td>\n",
       "      <td>30.0</td>\n",
       "      <td>38.0</td>\n",
       "    </tr>\n",
       "    <tr>\n",
       "      <th>3</th>\n",
       "      <td>3</td>\n",
       "      <td>NaN</td>\n",
       "      <td>40.0</td>\n",
       "    </tr>\n",
       "    <tr>\n",
       "      <th>4</th>\n",
       "      <td>4</td>\n",
       "      <td>NaN</td>\n",
       "      <td>NaN</td>\n",
       "    </tr>\n",
       "    <tr>\n",
       "      <th>5</th>\n",
       "      <td>5</td>\n",
       "      <td>NaN</td>\n",
       "      <td>NaN</td>\n",
       "    </tr>\n",
       "    <tr>\n",
       "      <th>6</th>\n",
       "      <td>6</td>\n",
       "      <td>NaN</td>\n",
       "      <td>NaN</td>\n",
       "    </tr>\n",
       "    <tr>\n",
       "      <th>7</th>\n",
       "      <td>7</td>\n",
       "      <td>NaN</td>\n",
       "      <td>NaN</td>\n",
       "    </tr>\n",
       "    <tr>\n",
       "      <th>8</th>\n",
       "      <td>8</td>\n",
       "      <td>NaN</td>\n",
       "      <td>NaN</td>\n",
       "    </tr>\n",
       "    <tr>\n",
       "      <th>9</th>\n",
       "      <td>9</td>\n",
       "      <td>NaN</td>\n",
       "      <td>NaN</td>\n",
       "    </tr>\n",
       "    <tr>\n",
       "      <th>10</th>\n",
       "      <td>10</td>\n",
       "      <td>NaN</td>\n",
       "      <td>NaN</td>\n",
       "    </tr>\n",
       "    <tr>\n",
       "      <th>11</th>\n",
       "      <td>11</td>\n",
       "      <td>NaN</td>\n",
       "      <td>NaN</td>\n",
       "    </tr>\n",
       "  </tbody>\n",
       "</table>\n",
       "</div>"
      ],
      "text/plain": [
       "    Unnamed: 0  ProductA  ProductB\n",
       "0            0      28.0      36.0\n",
       "1            1      29.0      37.0\n",
       "2            2      30.0      38.0\n",
       "3            3       NaN      40.0\n",
       "4            4       NaN       NaN\n",
       "5            5       NaN       NaN\n",
       "6            6       NaN       NaN\n",
       "7            7       NaN       NaN\n",
       "8            8       NaN       NaN\n",
       "9            9       NaN       NaN\n",
       "10          10       NaN       NaN\n",
       "11          11       NaN       NaN"
      ]
     },
     "execution_count": 22,
     "metadata": {},
     "output_type": "execute_result"
    }
   ],
   "source": [
    "data.mode()"
   ]
  },
  {
   "cell_type": "markdown",
   "id": "1eaa4e84",
   "metadata": {},
   "source": [
    "- The presence of multiple modes (28,29, and 30) suggests that there are more than one commonly occurring sales figure for Product A.\n",
    "- Similar to Product A, Product B also has multiple modes (36, 37, 38, and 40), indicating different sales figures that occur frequently."
   ]
  },
  {
   "cell_type": "markdown",
   "id": "77ce07b5",
   "metadata": {},
   "source": [
    "# 4) Calculate the weighted mean of the sales data, assuming each month has an equal weight. Discuss any implications of using weighted mean in this context."
   ]
  },
  {
   "cell_type": "code",
   "execution_count": 27,
   "id": "be0256eb",
   "metadata": {},
   "outputs": [
    {
     "name": "stdout",
     "output_type": "stream",
     "text": [
      "weighted mean for productA: 29.0\n",
      "weighted mean for productB: 38.25\n"
     ]
    }
   ],
   "source": [
    "weighted_mean_productA = data[\"ProductA\"].mean()\n",
    "weighted_mean_productB = data[\"ProductB\"].mean()\n",
    "\n",
    "print('weighted mean for productA:', weighted_mean_productA)\n",
    "print('weighted mean for productB:', weighted_mean_productB)"
   ]
  },
  {
   "cell_type": "markdown",
   "id": "b26f0758",
   "metadata": {},
   "source": [
    "- These calculated values represent the weighted mean sales for Product A and Product B, assuming equal weights for each month."
   ]
  },
  {
   "cell_type": "markdown",
   "id": "4fea148a",
   "metadata": {},
   "source": [
    "## Measures of Dispersion:\n"
   ]
  },
  {
   "cell_type": "markdown",
   "id": "f249c354",
   "metadata": {},
   "source": [
    "### 1) Compute the range of monthly sales for both Product A and Product B. Discuss how the range provides insights into the variability of sales."
   ]
  },
  {
   "cell_type": "markdown",
   "id": "529e20d3",
   "metadata": {},
   "source": [
    "Calculation of Range:\n",
    "For Product A:\n",
    "\n",
    "Maximum value: 33\n",
    "Minimum value: 25\n",
    "Range for Product A = Maximum value - Minimum value = \n",
    "33\n",
    "−\n",
    "25\n",
    "=\n",
    "8\n",
    "\n",
    "\n",
    "\n",
    "For Product B:\n",
    "\n",
    "Maximum value: 42\n",
    "Minimum value: 35\n",
    "Range for Product B = Maximum value - Minimum value = \n",
    "42\n",
    "−\n",
    "35\n",
    "=\n",
    "7\n"
   ]
  },
  {
   "cell_type": "code",
   "execution_count": 41,
   "id": "1069cd8a",
   "metadata": {},
   "outputs": [
    {
     "name": "stdout",
     "output_type": "stream",
     "text": [
      "Range of monthly sales for Product A:8\n",
      "Range of monthly sales for Product B:7\n"
     ]
    }
   ],
   "source": [
    "x =data['ProductA'].max() - data['ProductA'].min()\n",
    "y =data['ProductB'].max() - data['ProductB'].min()\n",
    "\n",
    "print(f\"Range of monthly sales for Product A:{x}\")\n",
    "print(f\"Range of monthly sales for Product B:{y}\")"
   ]
  },
  {
   "cell_type": "markdown",
   "id": "b1ba4e97",
   "metadata": {},
   "source": [
    "### 2)Calculate the variance of the sales data for both products. Discuss what the variance reveals about the spread of sales for each product."
   ]
  },
  {
   "cell_type": "code",
   "execution_count": 36,
   "id": "a732edf7",
   "metadata": {},
   "outputs": [
    {
     "name": "stdout",
     "output_type": "stream",
     "text": [
      "Variance for Product A: 5.636363636363637\n",
      "Variance for Product B: 4.75\n"
     ]
    }
   ],
   "source": [
    "x = data[\"ProductA\"].var()\n",
    "y = data[\"ProductB\"].var()\n",
    "\n",
    "print(f\"Variance for Product A: {x}\")\n",
    "print(f\"Variance for Product B: {y}\")\n"
   ]
  },
  {
   "cell_type": "markdown",
   "id": "14029568",
   "metadata": {},
   "source": [
    "#### function .var():-\n",
    "- The .var() function in pandas is used to compute the variance of numerical data within a pandas DataFrame or Series.\n",
    "- So, in simple terms, the .var() function calculates how much your numbers vary from the average, giving you an idea of how spread out your data is.\n"
   ]
  },
  {
   "cell_type": "markdown",
   "id": "dc5e1985",
   "metadata": {},
   "source": [
    "## 3) Determine the standard deviation of the sales for Product A and Product B. Discuss the significance of standard deviation in understanding the variability in sales."
   ]
  },
  {
   "cell_type": "code",
   "execution_count": 38,
   "id": "104f1fe0",
   "metadata": {},
   "outputs": [
    {
     "data": {
      "text/plain": [
       "Unnamed: 0    3.605551\n",
       "ProductA      2.374103\n",
       "ProductB      2.179449\n",
       "dtype: float64"
      ]
     },
     "execution_count": 38,
     "metadata": {},
     "output_type": "execute_result"
    }
   ],
   "source": [
    "data.std()"
   ]
  },
  {
   "cell_type": "markdown",
   "id": "c43c130c",
   "metadata": {},
   "source": [
    "# Relative Measures of Dispersion:"
   ]
  },
  {
   "cell_type": "markdown",
   "id": "c1ad6df7",
   "metadata": {},
   "source": [
    "### 1) Calculate the coefficient of variation for the sales data of Product A. Discuss how this relative measure of dispersion helps in comparing the variability of products with different average sales."
   ]
  },
  {
   "cell_type": "code",
   "execution_count": 39,
   "id": "4470ca13",
   "metadata": {},
   "outputs": [
    {
     "name": "stdout",
     "output_type": "stream",
     "text": [
      "8.186562068965516\n"
     ]
    }
   ],
   "source": [
    "standard_devation = 2.374103\n",
    "mean_ProductA = 29\n",
    "cofficient_variation = (standard_devation / mean_ProductA) * 100\n",
    "print(cofficient_variation)"
   ]
  },
  {
   "cell_type": "markdown",
   "id": "5f5f2e66",
   "metadata": {},
   "source": [
    "-  This coefficient helps in understanding the relative variability of Product A's sales figures compared to its mean.\n",
    "- A higher coefficient of variation indicates higher relative variability, while a lower coefficient of variation suggests lower relative variability."
   ]
  },
  {
   "cell_type": "markdown",
   "id": "58120aba",
   "metadata": {},
   "source": [
    "## 2)Compute the relative range for Product B. Discuss how the relative range accounts for the scale of the sales data."
   ]
  },
  {
   "cell_type": "code",
   "execution_count": 48,
   "id": "ee36d4ea",
   "metadata": {},
   "outputs": [
    {
     "name": "stdout",
     "output_type": "stream",
     "text": [
      "18.30065359477124\n"
     ]
    }
   ],
   "source": [
    "mean = 38.25\n",
    "Range_ProductB =(y / mean) * 100\n",
    "print(Range_ProductB)"
   ]
  },
  {
   "cell_type": "markdown",
   "id": "931d6b97",
   "metadata": {},
   "source": [
    "- This conversion to a percentage helps in better interpretation and comparison, especially when communicating the variability relative to the mean in a more standardized manner.\n",
    "- A lower relative range suggests that the variation in sales figures, as indicated by the range, is relatively smaller compared to the average sales value."
   ]
  },
  {
   "cell_type": "markdown",
   "id": "93fba11b",
   "metadata": {},
   "source": [
    "## 3)Determine the relative standard deviation for Product A. Interpret the result and discuss its implications for understanding the variability relative to the mean"
   ]
  },
  {
   "cell_type": "code",
   "execution_count": 49,
   "id": "e590b6b0",
   "metadata": {},
   "outputs": [
    {
     "name": "stdout",
     "output_type": "stream",
     "text": [
      "relative standard deviation for Product A:8.186562068965516\n"
     ]
    }
   ],
   "source": [
    "standard_devation = 2.374103\n",
    "mean = 29\n",
    "realtive_standard_devation = (standard_devation / mean) * 100\n",
    "print(f\"relative standard deviation for Product A:{realtive_standard_devation}\")"
   ]
  },
  {
   "cell_type": "markdown",
   "id": "84365d44",
   "metadata": {},
   "source": [
    "- Understanding the variability relative to the mean involves assessing how much the data points in a dataset deviate or spread out from the average value (the mean) of that dataset.\n",
    "\n"
   ]
  },
  {
   "cell_type": "code",
   "execution_count": null,
   "id": "6853e19a",
   "metadata": {},
   "outputs": [],
   "source": []
  }
 ],
 "metadata": {
  "kernelspec": {
   "display_name": "Python 3 (ipykernel)",
   "language": "python",
   "name": "python3"
  },
  "language_info": {
   "codemirror_mode": {
    "name": "ipython",
    "version": 3
   },
   "file_extension": ".py",
   "mimetype": "text/x-python",
   "name": "python",
   "nbconvert_exporter": "python",
   "pygments_lexer": "ipython3",
   "version": "3.11.5"
  }
 },
 "nbformat": 4,
 "nbformat_minor": 5
}
