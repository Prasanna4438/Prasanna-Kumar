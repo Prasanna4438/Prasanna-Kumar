{
 "cells": [
  {
   "cell_type": "markdown",
   "id": "eb16d5ac",
   "metadata": {},
   "source": [
    "#### else loop\n",
    "The statements in the else block will be executed after all iterations are completed. The program exits the loop only after the else block is executed.\n",
    "Else in For Loop()\n",
    "The else keyword in a for loop specifies a block of code to be executed when the loop is finished."
   ]
  },
  {
   "cell_type": "code",
   "execution_count": 1,
   "id": "4588f2ad",
   "metadata": {},
   "outputs": [
    {
     "name": "stdout",
     "output_type": "stream",
     "text": [
      "0\n",
      "1\n",
      "2\n",
      "3\n",
      "4\n",
      "execution completed\n"
     ]
    }
   ],
   "source": [
    "for ele in range(5): # natural for else process\n",
    "    print(ele)\n",
    "else:\n",
    "    print('execution completed')"
   ]
  },
  {
   "cell_type": "code",
   "execution_count": 3,
   "id": "09cc5814",
   "metadata": {},
   "outputs": [
    {
     "name": "stdout",
     "output_type": "stream",
     "text": [
      "0\n",
      "1\n",
      "2\n",
      "3\n",
      "4\n"
     ]
    }
   ],
   "source": [
    "for ele in range(10):\n",
    "    if ele == 5:\n",
    "        break #The else block will NOT be executed if the loop is stopped by a break statement.\n",
    "    print(ele)\n",
    "else:\n",
    "    print('execution completed')"
   ]
  },
  {
   "cell_type": "markdown",
   "id": "b6ae36f0",
   "metadata": {},
   "source": [
    "#### Else While Loop()\n",
    "With the else statement we can run a block of code once when the condition no longer is true."
   ]
  },
  {
   "cell_type": "code",
   "execution_count": 4,
   "id": "cfda6cde",
   "metadata": {},
   "outputs": [
    {
     "name": "stdout",
     "output_type": "stream",
     "text": [
      "0\n",
      "1\n",
      "2\n",
      "3\n",
      "4\n",
      "aa\n"
     ]
    }
   ],
   "source": [
    "ele = 0 # natural while else process\n",
    "while ele in range(5):\n",
    "    print(ele)\n",
    "    ele+=1\n",
    "else:\n",
    "    print('aa')"
   ]
  },
  {
   "cell_type": "code",
   "execution_count": 6,
   "id": "0b17a7a4",
   "metadata": {},
   "outputs": [
    {
     "name": "stdout",
     "output_type": "stream",
     "text": [
      "0\n",
      "1\n",
      "2\n",
      "Break the loop = 3\n"
     ]
    }
   ],
   "source": [
    "ele = 0  # natural while else process\n",
    "\n",
    "while ele in range(5):\n",
    "    if ele == 3:\n",
    "        print(\"Break the loop =\", ele)\n",
    "        break  # using break With the break statement we can stop the loop even if the while condition is true.\n",
    "    print(ele)\n",
    "    ele += 1\n",
    "else:\n",
    "    print('This will not be executed because the loop was terminated by the break statement.')"
   ]
  },
  {
   "cell_type": "markdown",
   "id": "dc13d115",
   "metadata": {},
   "source": [
    "#### enumerate()\n",
    "The enumerate function takes a collection and returns it as an enumerate object.The enumerate function adds a counter as the key of the enumerate object.\n",
    "syntax: enumerate(iterable, start)"
   ]
  },
  {
   "cell_type": "code",
   "execution_count": 7,
   "id": "ffcc0a0a",
   "metadata": {},
   "outputs": [
    {
     "name": "stdout",
     "output_type": "stream",
     "text": [
      "0 s\n",
      "1 t\n",
      "2 r\n",
      "3 i\n",
      "4 n\n",
      "5 g\n"
     ]
    }
   ],
   "source": [
    "x = 'string' # enumerate: gives index and value of index\n",
    "\n",
    "for ind,val in enumerate(x):\n",
    "    print(ind,val)"
   ]
  },
  {
   "cell_type": "code",
   "execution_count": 8,
   "id": "b5ebed3a",
   "metadata": {},
   "outputs": [
    {
     "name": "stdout",
     "output_type": "stream",
     "text": [
      "enter a num: 5\n",
      "0 1\n",
      "1 2\n",
      "2 3\n",
      "3 0\n",
      "4 4\n",
      "5 5\n",
      "value 5.0 entered is there in the container at index 5\n"
     ]
    }
   ],
   "source": [
    "x = [1,2,3,0,4,5] # taking a list \n",
    "y = float(input('enter a num: '))\n",
    "\n",
    "for i, ele in enumerate (x):\n",
    "    print(i, ele)\n",
    "    if ele == y:\n",
    "        print(f'value {y} entered is there in the container at index {i}') # using format \n",
    "        break # using break\n",
    "else: \n",
    "    print('value not found')"
   ]
  },
  {
   "cell_type": "code",
   "execution_count": 9,
   "id": "fa208ea5",
   "metadata": {},
   "outputs": [
    {
     "name": "stdout",
     "output_type": "stream",
     "text": [
      "enter a num: 4\n",
      "(0, 1)\n",
      "(1, 2)\n",
      "(2, 3)\n",
      "(3, 0)\n",
      "(4, 4)\n",
      "(5, 5)\n",
      "value not found\n"
     ]
    }
   ],
   "source": [
    "x = [1,2,3,0,4,5] # taking a list\n",
    "y = float(input('enter a num: '))\n",
    "\n",
    "for ele in enumerate (x): # with out taking i it is a tuple \n",
    "    print(ele)\n",
    "    if ele == y:\n",
    "        print(f'value {y} entered is there in the container at index {i}') # using format\n",
    "        break\n",
    "else: \n",
    "    print('value not found') "
   ]
  },
  {
   "cell_type": "code",
   "execution_count": 10,
   "id": "e6199bd2",
   "metadata": {},
   "outputs": [
    {
     "data": {
      "text/plain": [
       "{0: 'c', 1: 'r', 2: 'i', 3: 'c', 4: 'k', 5: 'e', 6: 't'}"
      ]
     },
     "execution_count": 10,
     "metadata": {},
     "output_type": "execute_result"
    }
   ],
   "source": [
    "x = 'cricket' # using key value pair in enumerate\n",
    "{key : value for key, value in enumerate(x)}"
   ]
  },
  {
   "cell_type": "markdown",
   "id": "8eff4e1f",
   "metadata": {},
   "source": [
    "#### List Comprehension()\n",
    "List comprehension offers a shorter syntax when you want to create a new list based on the values of an existing list."
   ]
  },
  {
   "cell_type": "code",
   "execution_count": 11,
   "id": "2f382ea4",
   "metadata": {},
   "outputs": [
    {
     "data": {
      "text/plain": [
       "[0, 1, 2, 3, 4, 5, 6, 7, 8, 9, 10]"
      ]
     },
     "execution_count": 11,
     "metadata": {},
     "output_type": "execute_result"
    }
   ],
   "source": [
    "a = [] # taking empty list\n",
    "for i in range(0,11):\n",
    "    a.append(i) # appending i range to empty list.\n",
    "a"
   ]
  },
  {
   "cell_type": "code",
   "execution_count": 12,
   "id": "d5689889",
   "metadata": {},
   "outputs": [
    {
     "data": {
      "text/plain": [
       "[0, 1, 2, 3, 4, 5, 6, 7, 8, 9, 10]"
      ]
     },
     "execution_count": 12,
     "metadata": {},
     "output_type": "execute_result"
    }
   ],
   "source": [
    "x = [ele for ele in range(0,11)] # with out using empty list we can use list comphrensive\n",
    "x"
   ]
  },
  {
   "cell_type": "code",
   "execution_count": 13,
   "id": "3539d5b7",
   "metadata": {},
   "outputs": [
    {
     "data": {
      "text/plain": [
       "[0, 4, 8, 12, 16, 20]"
      ]
     },
     "execution_count": 13,
     "metadata": {},
     "output_type": "execute_result"
    }
   ],
   "source": [
    "x = [2*ele for ele in range(0,11) if ele%2 == 0] # syntax: [var for var in iterator if c.e(using the var)]\n",
    "x"
   ]
  },
  {
   "cell_type": "code",
   "execution_count": 15,
   "id": "f6028f70",
   "metadata": {},
   "outputs": [
    {
     "data": {
      "text/plain": [
       "{'a', 'c', 'e', 'g', 'i', 'k', 'm', 'n', 'r', 's', 't', 'y'}"
      ]
     },
     "execution_count": 15,
     "metadata": {},
     "output_type": "execute_result"
    }
   ],
   "source": [
    "y = ('crickeT iS Very Intresting gamE')  # using for check lower alphabets \n",
    "y = {var for var in y if var.islower()}\n",
    "     \n",
    "y"
   ]
  },
  {
   "cell_type": "code",
   "execution_count": 16,
   "id": "db8c1279",
   "metadata": {},
   "outputs": [
    {
     "data": {
      "text/plain": [
       "['T', 'S', 'V', 'I', 'E']"
      ]
     },
     "execution_count": 16,
     "metadata": {},
     "output_type": "execute_result"
    }
   ],
   "source": [
    "y = ('crickeT iS Very Intresting gamE') # using for check upper alphabets \n",
    "y = [var for var in y if var.isupper()]\n",
    "y"
   ]
  },
  {
   "cell_type": "code",
   "execution_count": 17,
   "id": "5aeb369f",
   "metadata": {},
   "outputs": [
    {
     "data": {
      "text/plain": [
       "{'E', 'I', 'S', 'T', 'V'}"
      ]
     },
     "execution_count": 17,
     "metadata": {},
     "output_type": "execute_result"
    }
   ],
   "source": [
    "y = ('crickeT iS Very Intresting gamE') \n",
    "y = {var for var in y if var.isupper()} # duplicates are not allowe in sets.\n",
    "     \n",
    "y "
   ]
  },
  {
   "cell_type": "markdown",
   "id": "a3ecbc9c",
   "metadata": {},
   "source": [
    "#### zip()\n",
    "The zip() function returns a zip object, which is an iterator of tuples where the first item in each passed iterator is paired together, and then the second item in each passed iterator are paired together etc.\n",
    "If the passed iterables have different lengths, the iterable with the least items decides the length of the new iterator."
   ]
  },
  {
   "cell_type": "code",
   "execution_count": 18,
   "id": "7770ebda",
   "metadata": {},
   "outputs": [
    {
     "name": "stdout",
     "output_type": "stream",
     "text": [
      "(1, 11)\n",
      "(2, 22)\n",
      "(3, 33)\n"
     ]
    }
   ],
   "source": [
    "for ele in zip([1,2,3,4], [11,22,33]):\n",
    "    print(ele)"
   ]
  },
  {
   "cell_type": "code",
   "execution_count": 19,
   "id": "8ff3cfad",
   "metadata": {},
   "outputs": [
    {
     "data": {
      "text/plain": [
       "{1: 'a', 11: 'b', 22: 'c'}"
      ]
     },
     "execution_count": 19,
     "metadata": {},
     "output_type": "execute_result"
    }
   ],
   "source": [
    "{key : value for key, value in zip([1,11,22],['a', 'b', 'c'])} # using key value pair for zip"
   ]
  },
  {
   "cell_type": "code",
   "execution_count": null,
   "id": "b0d437c5",
   "metadata": {},
   "outputs": [],
   "source": []
  },
  {
   "cell_type": "code",
   "execution_count": null,
   "id": "bf5b3b82",
   "metadata": {},
   "outputs": [],
   "source": []
  }
 ],
 "metadata": {
  "kernelspec": {
   "display_name": "Python 3 (ipykernel)",
   "language": "python",
   "name": "python3"
  },
  "language_info": {
   "codemirror_mode": {
    "name": "ipython",
    "version": 3
   },
   "file_extension": ".py",
   "mimetype": "text/x-python",
   "name": "python",
   "nbconvert_exporter": "python",
   "pygments_lexer": "ipython3",
   "version": "3.11.5"
  }
 },
 "nbformat": 4,
 "nbformat_minor": 5
}
