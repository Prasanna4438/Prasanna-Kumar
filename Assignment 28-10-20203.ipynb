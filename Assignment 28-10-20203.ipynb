{
 "cells": [
  {
   "cell_type": "markdown",
   "id": "5a6cad96",
   "metadata": {},
   "source": [
    "# <center><font color='Red'>SET'S<font><center>"
   ]
  },
  {
   "cell_type": "markdown",
   "id": "22343d21",
   "metadata": {},
   "source": [
    "### Set's:-\n",
    "A set is a built-in data type in Python that represents an unordered collection of unique elements. Sets are similar to lists or tuples, but they do not allow duplicate elements, and the elements are not stored in any specific order. Sets are typically used for tasks that involve testing membership (checking if an element is present) and eliminating duplicates from a collection."
   ]
  },
  {
   "cell_type": "markdown",
   "id": "fba5b78c",
   "metadata": {},
   "source": [
    "### Creating a Empty sets:"
   ]
  },
  {
   "cell_type": "code",
   "execution_count": 2,
   "id": "32b24b2c",
   "metadata": {},
   "outputs": [
    {
     "name": "stdout",
     "output_type": "stream",
     "text": [
      "set()\n",
      "<class 'set'>\n",
      "2687059534880\n"
     ]
    }
   ],
   "source": [
    "x = set()\n",
    "print(x, type(x), id(x), sep = '\\n')"
   ]
  },
  {
   "cell_type": "code",
   "execution_count": 3,
   "id": "f733eb48",
   "metadata": {},
   "outputs": [
    {
     "name": "stdout",
     "output_type": "stream",
     "text": [
      "(1, 2.2, (3+3j), 'four', <built-in function print>, <class 'range'>, True)\n",
      "<class 'tuple'>\n",
      "7\n",
      "0x271a139cca0\n",
      "{1, 2.2, <built-in function print>, (3+3j), 'four'}\n",
      "<class 'set'>\n",
      "5\n",
      "0x271a13aa6c0\n"
     ]
    }
   ],
   "source": [
    "x, y = (1, 2.2, 3+3j , 'four' , print, range, True),set ([1, 2.2, 3+3j, 'four', print,])\n",
    "print(x,type(x), len(x),hex(id(x)), sep = '\\n')\n",
    "print(y,type(y), len(y),hex(id(y)), sep = '\\n')"
   ]
  },
  {
   "cell_type": "code",
   "execution_count": 5,
   "id": "ecc80947",
   "metadata": {},
   "outputs": [
    {
     "data": {
      "text/plain": [
       "{1, 2}"
      ]
     },
     "execution_count": 5,
     "metadata": {},
     "output_type": "execute_result"
    }
   ],
   "source": [
    "a = {1,1,1,2,2,2} # Removing Duplicates.\n",
    "a"
   ]
  },
  {
   "cell_type": "markdown",
   "id": "255ce76b",
   "metadata": {},
   "source": [
    "### <center><font color='Green'>Methods in Set's<font><center>"
   ]
  },
  {
   "cell_type": "markdown",
   "id": "05a0f58f",
   "metadata": {},
   "source": [
    "- add.\n",
    "- clear.\n",
    "- copy.\n",
    "- difference.\n",
    "- difference_update.\n",
    "- discard.\n",
    "- intersection.\n",
    "- intersection_update.\n",
    "- isdisjoint.\n",
    "- issubset.\n",
    "- issuperset.\n",
    "- pop.\n",
    "- remove.\n",
    "- symmetric_difference.\n",
    "- symmetric_difference_update.\n",
    "- union.\n",
    "- update."
   ]
  },
  {
   "cell_type": "markdown",
   "id": "f8de9ec0",
   "metadata": {},
   "source": [
    "#### Add():\n",
    "The add() method is a convenient way to insert unique elements into a set, ensuring that only distinct values are stored in the set."
   ]
  },
  {
   "cell_type": "code",
   "execution_count": 9,
   "id": "ca356ed7",
   "metadata": {},
   "outputs": [
    {
     "name": "stdout",
     "output_type": "stream",
     "text": [
      "set()\n",
      "<class 'set'>\n",
      "2687060603200\n"
     ]
    }
   ],
   "source": [
    "s = set()\n",
    "print(s, type(s), id(s), sep = '\\n')"
   ]
  },
  {
   "cell_type": "code",
   "execution_count": 10,
   "id": "3b8cf2ac",
   "metadata": {},
   "outputs": [
    {
     "data": {
      "text/plain": [
       "{10}"
      ]
     },
     "execution_count": 10,
     "metadata": {},
     "output_type": "execute_result"
    }
   ],
   "source": [
    "s.add(10)\n",
    "s"
   ]
  },
  {
   "cell_type": "markdown",
   "id": "f5750ada",
   "metadata": {},
   "source": [
    "#### update():\n",
    "The update() method is useful when you want to add multiple elements to a set from an iterable. It ensures that the resulting set contains only unique elements, as sets do not allow duplicates. This method is a way to combine sets or add new elements to an existing set."
   ]
  },
  {
   "cell_type": "code",
   "execution_count": 12,
   "id": "a3d8baec",
   "metadata": {},
   "outputs": [
    {
     "data": {
      "text/plain": [
       "{10}"
      ]
     },
     "execution_count": 12,
     "metadata": {},
     "output_type": "execute_result"
    }
   ],
   "source": [
    "s"
   ]
  },
  {
   "cell_type": "code",
   "execution_count": 20,
   "id": "b420e00d",
   "metadata": {},
   "outputs": [
    {
     "data": {
      "text/plain": [
       "{5, 10, 15, 20}"
      ]
     },
     "execution_count": 20,
     "metadata": {},
     "output_type": "execute_result"
    }
   ],
   "source": [
    "s.update((15,5,15,20))\n",
    "s"
   ]
  },
  {
   "cell_type": "markdown",
   "id": "b6ac808f",
   "metadata": {},
   "source": [
    "#### remove():\n",
    "The remove() method in Python is used to remove a specified element from a set. It is a built-in method that allows you to delete a particular element from the set. If the specified element is not found in the set, it raises a KeyError exception.\n",
    "\n"
   ]
  },
  {
   "cell_type": "code",
   "execution_count": 21,
   "id": "66832d36",
   "metadata": {},
   "outputs": [
    {
     "data": {
      "text/plain": [
       "{5, 10, 15, 20}"
      ]
     },
     "execution_count": 21,
     "metadata": {},
     "output_type": "execute_result"
    }
   ],
   "source": [
    "s"
   ]
  },
  {
   "cell_type": "code",
   "execution_count": 22,
   "id": "0fa326a6",
   "metadata": {},
   "outputs": [
    {
     "data": {
      "text/plain": [
       "{10, 15, 20}"
      ]
     },
     "execution_count": 22,
     "metadata": {},
     "output_type": "execute_result"
    }
   ],
   "source": [
    "s.remove(5)\n",
    "s"
   ]
  },
  {
   "cell_type": "code",
   "execution_count": 23,
   "id": "3739face",
   "metadata": {},
   "outputs": [
    {
     "ename": "KeyError",
     "evalue": "5",
     "output_type": "error",
     "traceback": [
      "\u001b[1;31m---------------------------------------------------------------------------\u001b[0m",
      "\u001b[1;31mKeyError\u001b[0m                                  Traceback (most recent call last)",
      "Cell \u001b[1;32mIn[23], line 1\u001b[0m\n\u001b[1;32m----> 1\u001b[0m s\u001b[38;5;241m.\u001b[39mremove(\u001b[38;5;241m5\u001b[39m)\n",
      "\u001b[1;31mKeyError\u001b[0m: 5"
     ]
    }
   ],
   "source": [
    "s.remove(5)"
   ]
  },
  {
   "cell_type": "markdown",
   "id": "dad50d88",
   "metadata": {},
   "source": [
    "#### discard():\n",
    "The discard() method in Python is used to remove a specified element from a set, similar to the remove() method. However, unlike the remove() method, discard() does not raise an error if the specified element is not found in the set. It safely removes the element if it exists in the set and has no effect if the element is not present."
   ]
  },
  {
   "cell_type": "code",
   "execution_count": 24,
   "id": "a72420e3",
   "metadata": {},
   "outputs": [
    {
     "data": {
      "text/plain": [
       "{10, 15, 20}"
      ]
     },
     "execution_count": 24,
     "metadata": {},
     "output_type": "execute_result"
    }
   ],
   "source": [
    "s"
   ]
  },
  {
   "cell_type": "code",
   "execution_count": 25,
   "id": "4066f711",
   "metadata": {},
   "outputs": [
    {
     "data": {
      "text/plain": [
       "{15, 20}"
      ]
     },
     "execution_count": 25,
     "metadata": {},
     "output_type": "execute_result"
    }
   ],
   "source": [
    "s.discard(10)\n",
    "s"
   ]
  },
  {
   "cell_type": "code",
   "execution_count": 26,
   "id": "c04a0af8",
   "metadata": {},
   "outputs": [],
   "source": [
    "s.discard(10)"
   ]
  },
  {
   "cell_type": "markdown",
   "id": "879206e0",
   "metadata": {},
   "source": [
    "#### pop():\n",
    "The pop() method in Python is used to remove and return an arbitrary (random) element from a set. Sets are unordered collections, so the element that gets removed by pop() is not guaranteed to be the first or last element; it could be any element from the set."
   ]
  },
  {
   "cell_type": "code",
   "execution_count": 30,
   "id": "72936b29",
   "metadata": {},
   "outputs": [
    {
     "data": {
      "text/plain": [
       "{1, 2, 3, 4, 5}"
      ]
     },
     "execution_count": 30,
     "metadata": {},
     "output_type": "execute_result"
    }
   ],
   "source": [
    "x = {1, 2, 3, 4, 5}\n",
    "x"
   ]
  },
  {
   "cell_type": "code",
   "execution_count": 31,
   "id": "36d106bd",
   "metadata": {},
   "outputs": [
    {
     "data": {
      "text/plain": [
       "1"
      ]
     },
     "execution_count": 31,
     "metadata": {},
     "output_type": "execute_result"
    }
   ],
   "source": [
    "a = x.pop()\n",
    "a"
   ]
  },
  {
   "cell_type": "markdown",
   "id": "638ccb6c",
   "metadata": {},
   "source": [
    "#### clear():\n",
    "\n",
    "The clear() method in Python is used to remove all elements from a set, effectively making the set empty. It is a built-in method for sets that clears all the elements, leaving an empty set."
   ]
  },
  {
   "cell_type": "code",
   "execution_count": 32,
   "id": "4f63b1ef",
   "metadata": {},
   "outputs": [
    {
     "data": {
      "text/plain": [
       "{15, 20}"
      ]
     },
     "execution_count": 32,
     "metadata": {},
     "output_type": "execute_result"
    }
   ],
   "source": [
    "s"
   ]
  },
  {
   "cell_type": "code",
   "execution_count": 35,
   "id": "04d0b25b",
   "metadata": {},
   "outputs": [
    {
     "data": {
      "text/plain": [
       "set()"
      ]
     },
     "execution_count": 35,
     "metadata": {},
     "output_type": "execute_result"
    }
   ],
   "source": [
    "s.clear()\n",
    "s"
   ]
  },
  {
   "cell_type": "markdown",
   "id": "5da82d6b",
   "metadata": {},
   "source": [
    "#### isdisjoint():\n",
    "The isdisjoint() method in Python is used to check if two sets are disjoint. Disjoint sets are sets that have no elements in common, meaning there are no shared elements between the two sets."
   ]
  },
  {
   "cell_type": "code",
   "execution_count": 2,
   "id": "aa881d2b",
   "metadata": {},
   "outputs": [
    {
     "name": "stdout",
     "output_type": "stream",
     "text": [
      "{1, 2, 3, 4, 5}\n",
      "{4, 5, 6, 7, 8}\n",
      "{1, 2, 3, 4, 5, 6, 7, 8}\n",
      "{'b', 'a', 'c'}\n"
     ]
    }
   ],
   "source": [
    "a = {1, 2, 3, 4, 5}\n",
    "b = {4, 5, 6, 7, 8}\n",
    "c = set(range(1, 9))\n",
    "d = {'a', 'b', 'c'}\n",
    "print(a, b, c, d, sep = '\\n')"
   ]
  },
  {
   "cell_type": "code",
   "execution_count": 3,
   "id": "f320ef9f",
   "metadata": {},
   "outputs": [
    {
     "data": {
      "text/plain": [
       "False"
      ]
     },
     "execution_count": 3,
     "metadata": {},
     "output_type": "execute_result"
    }
   ],
   "source": [
    "a.isdisjoint(b)\n"
   ]
  },
  {
   "cell_type": "markdown",
   "id": "fc3f8cf3",
   "metadata": {},
   "source": [
    "#### issuperset():\n",
    "The issuperset() method in Python is used to check if one set is a superset of another set. A superset is a set that contains all the elements of another set, and possibly more. In other words, if set A is a superset of set B, all elements of set B are present in set A."
   ]
  },
  {
   "cell_type": "code",
   "execution_count": 4,
   "id": "0909a1d9",
   "metadata": {},
   "outputs": [
    {
     "data": {
      "text/plain": [
       "True"
      ]
     },
     "execution_count": 4,
     "metadata": {},
     "output_type": "execute_result"
    }
   ],
   "source": [
    "c.issuperset(b)\n"
   ]
  },
  {
   "cell_type": "markdown",
   "id": "6295bcc3",
   "metadata": {},
   "source": [
    "#### issubset():\n",
    "The issubset() method in Python is used to check if one set is a subset of another set. A subset is a set that contains all the elements of another set, but it may also contain additional elements. In other words, if set A is a subset of set B, all elements of set A are present in set B."
   ]
  },
  {
   "cell_type": "code",
   "execution_count": 5,
   "id": "34e2e3ed",
   "metadata": {},
   "outputs": [
    {
     "data": {
      "text/plain": [
       "True"
      ]
     },
     "execution_count": 5,
     "metadata": {},
     "output_type": "execute_result"
    }
   ],
   "source": [
    "a.issubset(c)"
   ]
  },
  {
   "cell_type": "markdown",
   "id": "da2ec5cb",
   "metadata": {},
   "source": [
    "#### intersection():\n",
    "The intersection() method returns a new set that contains all the elements that are common to all the sets provided in the operation."
   ]
  },
  {
   "cell_type": "code",
   "execution_count": 6,
   "id": "31149c0c",
   "metadata": {},
   "outputs": [
    {
     "data": {
      "text/plain": [
       "{4, 5}"
      ]
     },
     "execution_count": 6,
     "metadata": {},
     "output_type": "execute_result"
    }
   ],
   "source": [
    "a.intersection(b)"
   ]
  },
  {
   "attachments": {
    "image.png": {
     "image/png": "[encoded data removed]"
    }
   },
   "cell_type": "markdown",
   "id": "06446884",
   "metadata": {},
   "source": [
    "![image.png](attachment:image.png)"
   ]
  },
  {
   "cell_type": "markdown",
   "id": "4d34ffac",
   "metadata": {},
   "source": [
    "#### union():\n",
    "The union() method is useful when you want to create a new set containing all the unique elements from multiple sets. It's commonly used to merge sets or to obtain a combined set of distinct values from different data sets."
   ]
  },
  {
   "cell_type": "code",
   "execution_count": 7,
   "id": "72138453",
   "metadata": {},
   "outputs": [
    {
     "data": {
      "text/plain": [
       "{1, 2, 3, 4, 5, 6, 7, 8}"
      ]
     },
     "execution_count": 7,
     "metadata": {},
     "output_type": "execute_result"
    }
   ],
   "source": [
    "a.union(b)"
   ]
  },
  {
   "attachments": {
    "image.png": {
     "image/png": "[encoded data removed]"
    }
   },
   "cell_type": "markdown",
   "id": "5d22491f",
   "metadata": {},
   "source": [
    "![image.png](attachment:image.png)"
   ]
  },
  {
   "cell_type": "markdown",
   "id": "4bb52f36",
   "metadata": {},
   "source": [
    "#### difference():\n",
    "The difference() method is useful when you want to find the elements that are unique to one set compared to another. It's commonly used in set operations to identify elements that exist in one set but not in another."
   ]
  },
  {
   "cell_type": "code",
   "execution_count": 8,
   "id": "96e54057",
   "metadata": {},
   "outputs": [
    {
     "data": {
      "text/plain": [
       "({1, 2, 3}, {6, 7, 8})"
      ]
     },
     "execution_count": 8,
     "metadata": {},
     "output_type": "execute_result"
    }
   ],
   "source": [
    "a.difference(b), b.difference(a)"
   ]
  },
  {
   "attachments": {
    "image.png": {
     "image/png": "[encoded data removed]"
    }
   },
   "cell_type": "markdown",
   "id": "b1aa9e29",
   "metadata": {},
   "source": [
    "![image.png](attachment:image.png)"
   ]
  },
  {
   "cell_type": "markdown",
   "id": "049ae707",
   "metadata": {},
   "source": [
    "#### symmetric_difference():\n",
    "In Python, the symmetric_difference() method is used to find the symmetric difference between two sets. The symmetric difference of sets consists of the elements that are present in either of the sets but not in both sets.\n"
   ]
  },
  {
   "attachments": {
    "image.png": {
     "image/png": "[encoded data removed]"
    }
   },
   "cell_type": "markdown",
   "id": "7673d488",
   "metadata": {},
   "source": [
    "![image.png](attachment:image.png)"
   ]
  },
  {
   "cell_type": "code",
   "execution_count": 10,
   "id": "f77f4328",
   "metadata": {},
   "outputs": [
    {
     "data": {
      "text/plain": [
       "({1, 2, 3, 6, 7, 8}, {1, 2, 3, 6, 7, 8})"
      ]
     },
     "execution_count": 10,
     "metadata": {},
     "output_type": "execute_result"
    }
   ],
   "source": [
    "a.symmetric_difference(b), b.symmetric_difference(a)"
   ]
  },
  {
   "cell_type": "code",
   "execution_count": 11,
   "id": "4219db58",
   "metadata": {},
   "outputs": [
    {
     "data": {
      "text/plain": [
       "(None, None)"
      ]
     },
     "execution_count": 11,
     "metadata": {},
     "output_type": "execute_result"
    }
   ],
   "source": [
    "a.symmetric_difference_update(b), b.symmetric_difference_update(a)"
   ]
  },
  {
   "cell_type": "code",
   "execution_count": 12,
   "id": "e2ecb9f3",
   "metadata": {},
   "outputs": [
    {
     "data": {
      "text/plain": [
       "(None, None)"
      ]
     },
     "execution_count": 12,
     "metadata": {},
     "output_type": "execute_result"
    }
   ],
   "source": [
    "a.intersection_update(b), b.intersection_update(a)"
   ]
  },
  {
   "cell_type": "code",
   "execution_count": 13,
   "id": "fdd1c29a",
   "metadata": {},
   "outputs": [
    {
     "data": {
      "text/plain": [
       "(None, None)"
      ]
     },
     "execution_count": 13,
     "metadata": {},
     "output_type": "execute_result"
    }
   ],
   "source": [
    "a.difference_update(b), b.difference_update(a)"
   ]
  },
  {
   "cell_type": "markdown",
   "id": "fa4ef379",
   "metadata": {},
   "source": [
    "# <center><font color='orange'>Dictionary<font><center>"
   ]
  },
  {
   "cell_type": "markdown",
   "id": "a7abfa5e",
   "metadata": {},
   "source": [
    "### Dictionary{}:\n",
    "In Python, a dictionary is an unordered collection of key-value pairs. It is a versatile and fundamental data structure used to store and retrieve data efficiently. Dictionaries are sometimes also referred to as \"dicts.\""
   ]
  },
  {
   "cell_type": "code",
   "execution_count": 14,
   "id": "108d44a1",
   "metadata": {},
   "outputs": [
    {
     "name": "stdout",
     "output_type": "stream",
     "text": [
      "Help on class dict in module builtins:\n",
      "\n",
      "class dict(object)\n",
      " |  dict() -> new empty dictionary\n",
      " |  dict(mapping) -> new dictionary initialized from a mapping object's\n",
      " |      (key, value) pairs\n",
      " |  dict(iterable) -> new dictionary initialized as if via:\n",
      " |      d = {}\n",
      " |      for k, v in iterable:\n",
      " |          d[k] = v\n",
      " |  dict(**kwargs) -> new dictionary initialized with the name=value pairs\n",
      " |      in the keyword argument list.  For example:  dict(one=1, two=2)\n",
      " |  \n",
      " |  Built-in subclasses:\n",
      " |      StgDict\n",
      " |  \n",
      " |  Methods defined here:\n",
      " |  \n",
      " |  __contains__(self, key, /)\n",
      " |      True if the dictionary has the specified key, else False.\n",
      " |  \n",
      " |  __delitem__(self, key, /)\n",
      " |      Delete self[key].\n",
      " |  \n",
      " |  __eq__(self, value, /)\n",
      " |      Return self==value.\n",
      " |  \n",
      " |  __ge__(self, value, /)\n",
      " |      Return self>=value.\n",
      " |  \n",
      " |  __getattribute__(self, name, /)\n",
      " |      Return getattr(self, name).\n",
      " |  \n",
      " |  __getitem__(...)\n",
      " |      x.__getitem__(y) <==> x[y]\n",
      " |  \n",
      " |  __gt__(self, value, /)\n",
      " |      Return self>value.\n",
      " |  \n",
      " |  __init__(self, /, *args, **kwargs)\n",
      " |      Initialize self.  See help(type(self)) for accurate signature.\n",
      " |  \n",
      " |  __ior__(self, value, /)\n",
      " |      Return self|=value.\n",
      " |  \n",
      " |  __iter__(self, /)\n",
      " |      Implement iter(self).\n",
      " |  \n",
      " |  __le__(self, value, /)\n",
      " |      Return self<=value.\n",
      " |  \n",
      " |  __len__(self, /)\n",
      " |      Return len(self).\n",
      " |  \n",
      " |  __lt__(self, value, /)\n",
      " |      Return self<value.\n",
      " |  \n",
      " |  __ne__(self, value, /)\n",
      " |      Return self!=value.\n",
      " |  \n",
      " |  __or__(self, value, /)\n",
      " |      Return self|value.\n",
      " |  \n",
      " |  __repr__(self, /)\n",
      " |      Return repr(self).\n",
      " |  \n",
      " |  __reversed__(self, /)\n",
      " |      Return a reverse iterator over the dict keys.\n",
      " |  \n",
      " |  __ror__(self, value, /)\n",
      " |      Return value|self.\n",
      " |  \n",
      " |  __setitem__(self, key, value, /)\n",
      " |      Set self[key] to value.\n",
      " |  \n",
      " |  __sizeof__(...)\n",
      " |      D.__sizeof__() -> size of D in memory, in bytes\n",
      " |  \n",
      " |  clear(...)\n",
      " |      D.clear() -> None.  Remove all items from D.\n",
      " |  \n",
      " |  copy(...)\n",
      " |      D.copy() -> a shallow copy of D\n",
      " |  \n",
      " |  get(self, key, default=None, /)\n",
      " |      Return the value for key if key is in the dictionary, else default.\n",
      " |  \n",
      " |  items(...)\n",
      " |      D.items() -> a set-like object providing a view on D's items\n",
      " |  \n",
      " |  keys(...)\n",
      " |      D.keys() -> a set-like object providing a view on D's keys\n",
      " |  \n",
      " |  pop(...)\n",
      " |      D.pop(k[,d]) -> v, remove specified key and return the corresponding value.\n",
      " |      \n",
      " |      If the key is not found, return the default if given; otherwise,\n",
      " |      raise a KeyError.\n",
      " |  \n",
      " |  popitem(self, /)\n",
      " |      Remove and return a (key, value) pair as a 2-tuple.\n",
      " |      \n",
      " |      Pairs are returned in LIFO (last-in, first-out) order.\n",
      " |      Raises KeyError if the dict is empty.\n",
      " |  \n",
      " |  setdefault(self, key, default=None, /)\n",
      " |      Insert key with a value of default if key is not in the dictionary.\n",
      " |      \n",
      " |      Return the value for key if key is in the dictionary, else default.\n",
      " |  \n",
      " |  update(...)\n",
      " |      D.update([E, ]**F) -> None.  Update D from dict/iterable E and F.\n",
      " |      If E is present and has a .keys() method, then does:  for k in E: D[k] = E[k]\n",
      " |      If E is present and lacks a .keys() method, then does:  for k, v in E: D[k] = v\n",
      " |      In either case, this is followed by: for k in F:  D[k] = F[k]\n",
      " |  \n",
      " |  values(...)\n",
      " |      D.values() -> an object providing a view on D's values\n",
      " |  \n",
      " |  ----------------------------------------------------------------------\n",
      " |  Class methods defined here:\n",
      " |  \n",
      " |  __class_getitem__(...) from builtins.type\n",
      " |      See PEP 585\n",
      " |  \n",
      " |  fromkeys(iterable, value=None, /) from builtins.type\n",
      " |      Create a new dictionary with keys from iterable and values set to value.\n",
      " |  \n",
      " |  ----------------------------------------------------------------------\n",
      " |  Static methods defined here:\n",
      " |  \n",
      " |  __new__(*args, **kwargs) from builtins.type\n",
      " |      Create and return a new object.  See help(type) for accurate signature.\n",
      " |  \n",
      " |  ----------------------------------------------------------------------\n",
      " |  Data and other attributes defined here:\n",
      " |  \n",
      " |  __hash__ = None\n",
      "\n"
     ]
    }
   ],
   "source": [
    "help(dict)"
   ]
  },
  {
   "cell_type": "code",
   "execution_count": 16,
   "id": "3ff18527",
   "metadata": {},
   "outputs": [
    {
     "name": "stdout",
     "output_type": "stream",
     "text": [
      "{}\n",
      "<class 'dict'>\n",
      "2325418615168\n"
     ]
    }
   ],
   "source": [
    "d = {} # an empety dictionary.\n",
    "print(d, type(d), id(d), sep = '\\n')"
   ]
  },
  {
   "cell_type": "code",
   "execution_count": 18,
   "id": "4ed0c50f",
   "metadata": {},
   "outputs": [
    {
     "name": "stdout",
     "output_type": "stream",
     "text": [
      "{'brand': 'Ford', 'model': 'Mustang', 'year': 2020}\n"
     ]
    }
   ],
   "source": [
    "ddict = {         \n",
    "  \"brand\": \"Ford\",\n",
    "  \"model\": \"Mustang\",\n",
    "  \"year\": 1964,\n",
    "  \"year\": 2020\n",
    "}\n",
    "print(ddict)"
   ]
  },
  {
   "cell_type": "code",
   "execution_count": null,
   "id": "a49fe78d",
   "metadata": {},
   "outputs": [],
   "source": []
  }
 ],
 "metadata": {
  "kernelspec": {
   "display_name": "Python 3 (ipykernel)",
   "language": "python",
   "name": "python3"
  },
  "language_info": {
   "codemirror_mode": {
    "name": "ipython",
    "version": 3
   },
   "file_extension": ".py",
   "mimetype": "text/x-python",
   "name": "python",
   "nbconvert_exporter": "python",
   "pygments_lexer": "ipython3",
   "version": "3.11.5"
  }
 },
 "nbformat": 4,
 "nbformat_minor": 5
}
