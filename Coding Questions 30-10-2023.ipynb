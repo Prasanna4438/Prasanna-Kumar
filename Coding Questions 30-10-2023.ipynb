{
 "cells": [
  {
   "cell_type": "markdown",
   "id": "5770e134",
   "metadata": {},
   "source": [
    "### Coding Questions with Explanation"
   ]
  },
  {
   "cell_type": "markdown",
   "id": "c4b4872c",
   "metadata": {},
   "source": [
    "Write a Python program that asks the user for their age and prints \"You are an adult\" if the age is 18 or older, otherwise prints \"You are a minor'.\n"
   ]
  },
  {
   "cell_type": "code",
   "execution_count": 1,
   "id": "b9be5f0f",
   "metadata": {},
   "outputs": [
    {
     "name": "stdout",
     "output_type": "stream",
     "text": [
      "Enter Age:18\n",
      "you are a adult\n"
     ]
    }
   ],
   "source": [
    "age = int(input('Enter Age:'))\n",
    "if age >=18:\n",
    "    print('you are a adult')\n",
    "else:\n",
    "    print('you are a minor')"
   ]
  },
  {
   "cell_type": "code",
   "execution_count": 2,
   "id": "ebe05d6a",
   "metadata": {},
   "outputs": [
    {
     "name": "stdout",
     "output_type": "stream",
     "text": [
      "Enter Age:15\n",
      "you are a minor\n"
     ]
    }
   ],
   "source": [
    "age = int(input('Enter Age:'))\n",
    "if age >=18:\n",
    "    print('you are a adult')\n",
    "else:\n",
    "    print('you are a minor')"
   ]
  },
  {
   "cell_type": "markdown",
   "id": "c46993a8",
   "metadata": {},
   "source": [
    "Write a program that takes a numerical grade (out of 100) as input and prints the corresponding letter grade according to the following scale:\n",
    "\n",
    "-  90-100: A\n",
    "- 80-89: B\n",
    "- 70-79: C\n",
    "- 60-69: D\n",
    "- Below 60: F\n"
   ]
  },
  {
   "cell_type": "markdown",
   "id": "f5d747ce",
   "metadata": {},
   "source": [
    "Write a program that takes a numerical grade (out of 100) as input and prints the corresponding letter grade according to the following scale:\n",
    "\n",
    "- 90-100: A\n",
    "- 80-89: B\n",
    "- 70-79: C\n",
    "- 60-69: D\n",
    "- Below 60: F\n"
   ]
  },
  {
   "cell_type": "code",
   "execution_count": 5,
   "id": "5124a879",
   "metadata": {},
   "outputs": [
    {
     "name": "stdout",
     "output_type": "stream",
     "text": [
      "Emter Grade90\n",
      "A\n"
     ]
    }
   ],
   "source": [
    "grade = int(input('Emter Grade'))\n",
    "\n",
    "if grade >= 90:\n",
    "    print('A')\n",
    "elif grade >=80:\n",
    "        print('B')\n",
    "elif grade >= 70:\n",
    "        print('C')\n",
    "elif grade >= 60:\n",
    "        print('D')\n",
    "else:\n",
    "    print('F')"
   ]
  },
  {
   "cell_type": "code",
   "execution_count": 6,
   "id": "a2abbc08",
   "metadata": {},
   "outputs": [
    {
     "name": "stdout",
     "output_type": "stream",
     "text": [
      "Emter Grade55\n",
      "F\n"
     ]
    }
   ],
   "source": [
    "grade = int(input('Emter Grade'))\n",
    "\n",
    "if grade >= 90:\n",
    "    print('A')\n",
    "elif grade >=80:\n",
    "        print('B')\n",
    "elif grade >= 70:\n",
    "        print('C')\n",
    "elif grade >= 60:\n",
    "        print('D')\n",
    "else:\n",
    "    print('F')"
   ]
  },
  {
   "cell_type": "markdown",
   "id": "7bcefd0d",
   "metadata": {},
   "source": [
    "Write a program that calculates the Body Mass Index (BMI) of a person. The user should input their weight in kilograms and height in meters. The program should then print whether the person is underweight, normal weight, overweight, or obese"
   ]
  },
  {
   "cell_type": "code",
   "execution_count": 7,
   "id": "b512bbf4",
   "metadata": {},
   "outputs": [
    {
     "name": "stdout",
     "output_type": "stream",
     "text": [
      "enter your weight : 60\n",
      "enter your height : 5.7\n",
      "the weight, height, and bmi of your body are 60.0,5.7, are 1.8467220683287164\n",
      "you are underweight\n"
     ]
    }
   ],
   "source": [
    "weight = (float(input('enter your weight : ')))\n",
    "height = (float(input('enter your height : ')))\n",
    "bmi = weight / (height ** 2) # fo bmi of any body the condition must be \n",
    "print(f'the weight, height, and bmi of your body are {weight},{height}, are {bmi}')\n",
    "\n",
    "if bmi <= 18.5:\n",
    "    print('you are underweight')\n",
    "elif 18.5 <= bmi < 24.9:\n",
    "    print('you are in the normal weight range')\n",
    "elif 25 <= bmi < 29.9:\n",
    "    print('you are overweight')\n",
    "else:\n",
    "    print('you are obese')"
   ]
  },
  {
   "cell_type": "markdown",
   "id": "ab5b3adc",
   "metadata": {},
   "source": [
    "Write a program that asks the user for a temperature (in Celsius) and prints \"It's freezing\" if the temperature is below 0, \"It's cool\" if it's between 0 and 10, \"It's warm\" if it's between 10 and 20, and \"It's hot\" if it's above 20"
   ]
  },
  {
   "cell_type": "code",
   "execution_count": 8,
   "id": "9611d6a3",
   "metadata": {},
   "outputs": [
    {
     "name": "stdout",
     "output_type": "stream",
     "text": [
      "enter room temp : 30\n",
      "it's hot\n"
     ]
    }
   ],
   "source": [
    "temp = float(input('enter room temp : '))\n",
    "\n",
    "if temp<=0:\n",
    "    print('freezing')\n",
    "elif temp in range(0, 11):\n",
    "    print('it\\'s cool')\n",
    "elif temp in range(10, 21):\n",
    "    print('it\\'s warm')\n",
    "else:\n",
    "    print('it\\'s hot')"
   ]
  },
  {
   "cell_type": "markdown",
   "id": "b328c1fd",
   "metadata": {},
   "source": [
    " Write a program that asks the user for a number (1-7) and prints the corresponding day of the week."
   ]
  },
  {
   "cell_type": "code",
   "execution_count": 9,
   "id": "5df98064",
   "metadata": {},
   "outputs": [
    {
     "name": "stdout",
     "output_type": "stream",
     "text": [
      "enter a number : 1\n",
      "sunday\n"
     ]
    }
   ],
   "source": [
    "d = int(input('enter a number : '))\n",
    "\n",
    "if d==1: # python interpretor checks the if condition if true then follows on to next elif \n",
    "    print('sunday')\n",
    "elif d==2:\n",
    "    print('monday')\n",
    "elif d==3:\n",
    "    print('tuesday')\n",
    "elif d==4:\n",
    "    print('wednesday')\n",
    "elif d==5:\n",
    "    print('thursday')\n",
    "elif d==6:\n",
    "    print('friday')\n",
    "elif d==7:\n",
    "    print('saturday')\n",
    "else:\n",
    "    print('invalid number')"
   ]
  },
  {
   "cell_type": "markdown",
   "id": "7020e92e",
   "metadata": {},
   "source": [
    " Write a program that asks the user for a number and prints \"In range\" if the number is between 10 and 20 (inclusive), and \"Out of range\" otherwise.\n",
    " "
   ]
  },
  {
   "cell_type": "code",
   "execution_count": 10,
   "id": "c8a4a1e0",
   "metadata": {},
   "outputs": [
    {
     "name": "stdout",
     "output_type": "stream",
     "text": [
      "enter a number : 15\n",
      "in range\n"
     ]
    }
   ],
   "source": [
    "r = int(input('enter a number : '))\n",
    "\n",
    "if r in range(10, 21):\n",
    "    print('in range')\n",
    "else:\n",
    "    print('out of range')"
   ]
  },
  {
   "cell_type": "code",
   "execution_count": 11,
   "id": "fcb25678",
   "metadata": {},
   "outputs": [
    {
     "name": "stdout",
     "output_type": "stream",
     "text": [
      "enter a number : 30\n",
      "out of range\n"
     ]
    }
   ],
   "source": [
    "r = int(input('enter a number : '))\n",
    "\n",
    "if r in range(10, 21): #range statment start from 10 and end at 21 and excluding 21.\n",
    "    print('in range')\n",
    "else:\n",
    "    print('out of range')"
   ]
  },
  {
   "cell_type": "markdown",
   "id": "019e39a8",
   "metadata": {},
   "source": [
    "Write a program that asks the user for an integer and prints whether it's even or odd."
   ]
  },
  {
   "cell_type": "code",
   "execution_count": 12,
   "id": "fefe3719",
   "metadata": {},
   "outputs": [
    {
     "name": "stdout",
     "output_type": "stream",
     "text": [
      "enter a number : 10\n",
      "even number\n"
     ]
    }
   ],
   "source": [
    "n = int(input('enter a number : '))\n",
    "\n",
    "if n % 2 == 0: # condtion statment any number divided with 2 is consider as even number\n",
    "    print('even number')\n",
    "else:\n",
    "    print('odd number')"
   ]
  },
  {
   "cell_type": "code",
   "execution_count": null,
   "id": "052d0a83",
   "metadata": {},
   "outputs": [],
   "source": []
  },
  {
   "cell_type": "code",
   "execution_count": null,
   "id": "10549aed",
   "metadata": {},
   "outputs": [],
   "source": []
  },
  {
   "cell_type": "code",
   "execution_count": null,
   "id": "aeff0590",
   "metadata": {},
   "outputs": [],
   "source": []
  }
 ],
 "metadata": {
  "kernelspec": {
   "display_name": "Python 3 (ipykernel)",
   "language": "python",
   "name": "python3"
  },
  "language_info": {
   "codemirror_mode": {
    "name": "ipython",
    "version": 3
   },
   "file_extension": ".py",
   "mimetype": "text/x-python",
   "name": "python",
   "nbconvert_exporter": "python",
   "pygments_lexer": "ipython3",
   "version": "3.11.5"
  }
 },
 "nbformat": 4,
 "nbformat_minor": 5
}
