{
 "cells": [
  {
   "cell_type": "markdown",
   "id": "ac97c077",
   "metadata": {},
   "source": [
    "## what will be the output of the following  python program"
   ]
  },
  {
   "cell_type": "code",
   "execution_count": 1,
   "id": "57a1b390",
   "metadata": {},
   "outputs": [
    {
     "name": "stdout",
     "output_type": "stream",
     "text": [
      "True\n"
     ]
    }
   ],
   "source": [
    "def foo(x):\n",
    "    x[0]=['def']\n",
    "    x[1]=['abc']\n",
    "    return id(x)\n",
    "q=['abc','def']\n",
    "print(id(q)==foo(q))"
   ]
  },
  {
   "cell_type": "markdown",
   "id": "63792e65",
   "metadata": {},
   "source": [
    "### Output Explanation:\n",
    "\n",
    "- The function foo modifies the input list q by replacing its elements with new lists.\n",
    "- The id(q) is the identity of the original list 'q'.\n",
    "- The foo(q) returns the identity of the modified list inside the function.\n",
    "- The print statement checks if these two identities are equal.\n",
    "- Since the modified list is still 'q', the output is True."
   ]
  },
  {
   "cell_type": "markdown",
   "id": "63cde0b5",
   "metadata": {},
   "source": [
    "## what will be the output of the following  python code?"
   ]
  },
  {
   "cell_type": "code",
   "execution_count": 2,
   "id": "f6138088",
   "metadata": {},
   "outputs": [
    {
     "name": "stdout",
     "output_type": "stream",
     "text": [
      "2\n"
     ]
    }
   ],
   "source": [
    "def fun():\n",
    "    try:\n",
    "        return 1\n",
    "    finally:\n",
    "        return 2\n",
    "k= fun()\n",
    "print(k)\n",
    "    "
   ]
  },
  {
   "cell_type": "markdown",
   "id": "9b80532f",
   "metadata": {},
   "source": [
    "### Output Explanation:\n",
    "- The fun function contains a try block that returns the value 1.\n",
    "- There is a finally block, which will be executed regardless of whether an exception occurs or not.\n",
    "- The finally block returns the value 2.\n"
   ]
  },
  {
   "cell_type": "markdown",
   "id": "4fb89118",
   "metadata": {},
   "source": [
    "## what will be the output  of the following code snippet?"
   ]
  },
  {
   "cell_type": "code",
   "execution_count": 3,
   "id": "ec3d5c2f",
   "metadata": {},
   "outputs": [
    {
     "name": "stdout",
     "output_type": "stream",
     "text": [
      "Local\n"
     ]
    }
   ],
   "source": [
    "def func():\n",
    "    global value\n",
    "    value = 'Local'\n",
    "value = 'Global'\n",
    "func()\n",
    "print(value)"
   ]
  },
  {
   "cell_type": "markdown",
   "id": "f2f606eb",
   "metadata": {},
   "source": [
    "### Output Explanation:\n",
    "\n",
    "- The function func is defined, and inside it, the global variable value is assigned the value 'Local'.\n",
    "- Initially, the global variable value is set to 'Global'.\n",
    "- Calling the function func modifies the global variable value to 'Local'.\n",
    "- The final print(value) statement outputs the current"
   ]
  },
  {
   "cell_type": "markdown",
   "id": "1ff7bc02",
   "metadata": {},
   "source": [
    "## 4.  ___________ exceptions are raised as result of an error in opening a particular file"
   ]
  },
  {
   "cell_type": "markdown",
   "id": "d43c769f",
   "metadata": {},
   "source": [
    "- FileNotFoundError: This exception is raised when the specified file cannot be found at the provided path.\n",
    "Is Correct answer"
   ]
  },
  {
   "cell_type": "markdown",
   "id": "a144fbb9",
   "metadata": {},
   "source": [
    "- IOError:- IOError used to be a common exception in older versions of Python, but it has been deprecated in Python 3.3 and later. In Python 3, the exceptions related to I/O operations have been reorganized, and IOError has been replaced by more specific exceptions."
   ]
  },
  {
   "cell_type": "markdown",
   "id": "9a0ef7d0",
   "metadata": {},
   "source": [
    "## 5. In python we do not specify types ,it is directly interpert by the complier, so consider the following operation to be performed"
   ]
  },
  {
   "cell_type": "markdown",
   "id": "4113eca8",
   "metadata": {},
   "source": [
    "a) x =13/2 \n",
    "\n",
    "b) x=int(13/2)\n",
    "\n",
    "c) x= 13%2\n",
    "\n",
    "D) All Of  the mentioned"
   ]
  },
  {
   "cell_type": "markdown",
   "id": "9cdc45bd",
   "metadata": {},
   "source": [
    "- a) x = 13/2: This performs floating-point division and assigns the result to x.\n",
    "\n",
    "- b) x = int(13/2): This performs floating-point division, then converts the result to an integer using the int() function before assigning to x.\n",
    "\n",
    "- c) x = 13%2: This performs the modulo operation, calculating the remainder of the division of 13 by 2 and assigns"
   ]
  },
  {
   "cell_type": "code",
   "execution_count": 4,
   "id": "8404fba1",
   "metadata": {},
   "outputs": [
    {
     "data": {
      "text/plain": [
       "6"
      ]
     },
     "execution_count": 4,
     "metadata": {},
     "output_type": "execute_result"
    }
   ],
   "source": [
    "13//2"
   ]
  },
  {
   "cell_type": "code",
   "execution_count": 5,
   "id": "138a41ff",
   "metadata": {},
   "outputs": [
    {
     "data": {
      "text/plain": [
       "6"
      ]
     },
     "execution_count": 5,
     "metadata": {},
     "output_type": "execute_result"
    }
   ],
   "source": [
    "int(13//2)"
   ]
  },
  {
   "cell_type": "code",
   "execution_count": 6,
   "id": "32c92bad",
   "metadata": {},
   "outputs": [
    {
     "data": {
      "text/plain": [
       "1"
      ]
     },
     "execution_count": 6,
     "metadata": {},
     "output_type": "execute_result"
    }
   ],
   "source": [
    "13%2"
   ]
  },
  {
   "cell_type": "markdown",
   "id": "69089366",
   "metadata": {},
   "source": [
    "### answer : D) All Of the mentioned\n",
    "\n"
   ]
  },
  {
   "cell_type": "markdown",
   "id": "e38543a1",
   "metadata": {},
   "source": [
    "## 6.what willl be the out put of the follwing Python code?"
   ]
  },
  {
   "cell_type": "code",
   "execution_count": 7,
   "id": "da3c457e",
   "metadata": {},
   "outputs": [],
   "source": [
    "#t[5]"
   ]
  },
  {
   "cell_type": "markdown",
   "id": "4c0016ef",
   "metadata": {},
   "source": [
    "- However, the code is incomplete, and it lacks the necessary context, such as the declaration and initialization of the variable t. Without this information, it's not possible to determine the output or identify any issues in the code."
   ]
  },
  {
   "cell_type": "markdown",
   "id": "502de93c",
   "metadata": {},
   "source": [
    "a)IndexError\n",
    "\n",
    "b)NameError\n",
    "\n",
    "c)TypeError\n",
    "\n",
    "d)SyntactialError"
   ]
  },
  {
   "cell_type": "markdown",
   "id": "521822c8",
   "metadata": {},
   "source": [
    "## 7. A while loop in python is used for what type of iteration"
   ]
  },
  {
   "cell_type": "markdown",
   "id": "72b54761",
   "metadata": {},
   "source": [
    "a) indefinite\n",
    "\n",
    "b) discriminant\n",
    "\n",
    "c) definite\n",
    "\n",
    "d) indeterminate"
   ]
  },
  {
   "cell_type": "markdown",
   "id": "c101fd5f",
   "metadata": {},
   "source": [
    "- In Python, a while loop is used for indefinite iteration. This means that the loop will continue executing as long as a certain condition is True."
   ]
  },
  {
   "cell_type": "markdown",
   "id": "34e25c61",
   "metadata": {},
   "source": [
    "## 8. What will be the output of the following python code?"
   ]
  },
  {
   "cell_type": "code",
   "execution_count": 8,
   "id": "afb2aaa2",
   "metadata": {},
   "outputs": [
    {
     "ename": "NameError",
     "evalue": "name 'i' is not defined",
     "output_type": "error",
     "traceback": [
      "\u001b[1;31m---------------------------------------------------------------------------\u001b[0m",
      "\u001b[1;31mNameError\u001b[0m                                 Traceback (most recent call last)",
      "Cell \u001b[1;32mIn[8], line 2\u001b[0m\n\u001b[0;32m      1\u001b[0m x \u001b[38;5;241m=\u001b[39m \u001b[38;5;124m\"\u001b[39m\u001b[38;5;124mabcdef\u001b[39m\u001b[38;5;124m\"\u001b[39m\n\u001b[1;32m----> 2\u001b[0m \u001b[38;5;28;01mwhile\u001b[39;00m i \u001b[38;5;129;01min\u001b[39;00m x:\n\u001b[0;32m      3\u001b[0m     \u001b[38;5;28mprint\u001b[39m(i, end\u001b[38;5;241m=\u001b[39m\u001b[38;5;124m\"\u001b[39m\u001b[38;5;124m \u001b[39m\u001b[38;5;124m\"\u001b[39m)\n",
      "\u001b[1;31mNameError\u001b[0m: name 'i' is not defined"
     ]
    }
   ],
   "source": [
    "x = \"abcdef\"\n",
    "while i in x:\n",
    "    print(i, end=\" \")"
   ]
  },
  {
   "cell_type": "markdown",
   "id": "d4944280",
   "metadata": {},
   "source": [
    "- will raise a **NameError** because the variable i is not defined before being used in the loop condition.\n",
    "- The code provided contains a logical error. It tries to iterate over the variable i in the string x without declaring or initializing i. This will result in a NameError because i is not defined before being used in the while loop."
   ]
  },
  {
   "cell_type": "markdown",
   "id": "4a07c9da",
   "metadata": {},
   "source": [
    "## 9. what is main advantage of using decorators in python?"
   ]
  },
  {
   "cell_type": "markdown",
   "id": "8de681e5",
   "metadata": {},
   "source": [
    "a) they make code more complex\n",
    "\n",
    "b) they simplify the syntax of the decorated function\n",
    "\n",
    "c) they reduce the performance of the code\n",
    "\n",
    "d) they provide additional security features\n",
    "\n"
   ]
  },
  {
   "cell_type": "markdown",
   "id": "d6ec8c68",
   "metadata": {},
   "source": [
    "- Decorators in Python offer a powerful and flexible way to modify or extend the behavior of functions or methods. The main advantages of using decorators include:Code Reusability, Readability and Maintainability, Separation of Concerns, Code Extension without Modification, Promotion of DRY Principle (Don't Repeat Yourself), Aspect-Oriented Programming (AOP), Dynamic Nature.\n",
    "### b) they simplify the syntax of the decorated function\n",
    "\n"
   ]
  },
  {
   "cell_type": "markdown",
   "id": "b65014e5",
   "metadata": {},
   "source": [
    "## 10. if return statement is not used inside the function , the function will return\n",
    "\n",
    "\n",
    "a)None\n",
    "\n",
    "b)0\n",
    "\n",
    "c)Null\n",
    "\n",
    "d)Arbitary value"
   ]
  },
  {
   "cell_type": "markdown",
   "id": "4f8b18ad",
   "metadata": {},
   "source": [
    "- In Python, if a return statement is not used inside a function, the function will implicitly return None when it reaches the end of its code block. The None value represents the absence of a value or a null value in Python"
   ]
  },
  {
   "cell_type": "markdown",
   "id": "4873b909",
   "metadata": {},
   "source": [
    "#### Answer :- None"
   ]
  },
  {
   "cell_type": "markdown",
   "id": "d2bd17e9",
   "metadata": {},
   "source": [
    "## 11.what is called when function is defined inside a class?\n",
    "\n",
    "a) class\n",
    "\n",
    "b) Function\n",
    "\n",
    "c)method\n",
    "\n",
    "d)Module"
   ]
  },
  {
   "cell_type": "markdown",
   "id": "198c13a5",
   "metadata": {},
   "source": [
    "- When a function is defined inside a class in Python, it is referred to as a \"method.\" Methods are essentially functions that are associated with an object and can access the data (attributes) of that object. The syntax for defining a method inside a class is similar to defining a function, but it is part of the class definition."
   ]
  },
  {
   "cell_type": "markdown",
   "id": "95eb6598",
   "metadata": {},
   "source": [
    "When a function is defined inside a class, we call it a **Method**"
   ]
  },
  {
   "cell_type": "markdown",
   "id": "90fd4b0d",
   "metadata": {},
   "source": [
    "## 12. which operator is used in python to import modules from a package?\n",
    "\n",
    "a)•\n",
    "\n",
    "b)*\n",
    "\n",
    "c)->\n",
    "\n",
    "d)&"
   ]
  },
  {
   "cell_type": "markdown",
   "id": "60754c93",
   "metadata": {},
   "source": [
    "- In Python, the dot (.) operator is used to import modules from a package. When you have a package (which is essentially a directory containing a special __init__.py file) and you want to import a module from within that package, you use the dot notation to specify the path."
   ]
  },
  {
   "cell_type": "markdown",
   "id": "5920610b",
   "metadata": {},
   "source": [
    "## 13."
   ]
  },
  {
   "cell_type": "code",
   "execution_count": null,
   "id": "92563233",
   "metadata": {},
   "outputs": [],
   "source": [
    "def getMonth(m):\n",
    "    if m < 1 or m>12:\n",
    "        raise ValueError(\"Invalid\")\n",
    "    print(m)\n",
    "getMonth(6)"
   ]
  },
  {
   "cell_type": "markdown",
   "id": "d93fd75e",
   "metadata": {},
   "source": [
    "- The getMonth function takes a parameter m, which represents a month.\n",
    "- The if statement checks if the provided month is less than 1 or greater than 12, which are invalid month values.\n",
    "- If the condition is true, a ValueError is raised with the message \"Invalid.\"\n",
    "- If the condition is false, meaning the month is valid, the function proceeds to the next line and prints the value of the month.\n",
    "- Finally, the getMonth function is called with the argument 6, so the output will be 6 if the month is valid."
   ]
  },
  {
   "cell_type": "markdown",
   "id": "824eeb31",
   "metadata": {},
   "source": [
    "## 14. In python programing language , syntax error is detected  by ________at_______"
   ]
  },
  {
   "cell_type": "markdown",
   "id": "35ca38fd",
   "metadata": {},
   "source": [
    "a) interpreter / compile time\n",
    "\n",
    "b) Runtime /interpreter\n",
    "\n",
    "c)interpreter/Run time\n",
    "\n",
    "d)compile time /Run time\n",
    "\n",
    "\n",
    "\n",
    "### a) interpreter / compile time\n",
    "- a) interpreter / compile time Syntax errors in Python are detected by the interpreter during the compilation phase, which occurs before the code is executed. So, the correct answer is that syntax errors are detected by the interpreter at compile time."
   ]
  },
  {
   "cell_type": "markdown",
   "id": "d123d4f3",
   "metadata": {},
   "source": [
    "## 15"
   ]
  },
  {
   "cell_type": "code",
   "execution_count": null,
   "id": "6223733f",
   "metadata": {},
   "outputs": [],
   "source": [
    "class Book:\n",
    "    def __init__(self,author):\n",
    "        self.author = author\n",
    "book1 = Book('V.M.Shah')\n",
    "book2 = book1\n",
    "    "
   ]
  },
  {
   "cell_type": "markdown",
   "id": "8e4c1074",
   "metadata": {},
   "source": [
    "- A class named Book is defined.\n",
    "- The class has a constructor method __init__ that takes two parameters: self (representing the instance of the class) and author.\n",
    "- The constructor initializes the instance's author attribute with the provided author parameter.\n",
    "- An instance of the Book class is created with the author 'V.M.Shah' and assigned to the variable book1.\n",
    "- Another variable book2 is created and assigned the same instance as book1.\n",
    "- This code essentially creates two variables, book1 and book2, both referencing the same instance of the Book class. They point to the same object in memory. Any changes made through one variable will be reflected in"
   ]
  },
  {
   "cell_type": "code",
   "execution_count": null,
   "id": "0f1ad983",
   "metadata": {},
   "outputs": [],
   "source": [
    "id(book1)"
   ]
  },
  {
   "cell_type": "code",
   "execution_count": null,
   "id": "e03d9696",
   "metadata": {},
   "outputs": [],
   "source": [
    "id(book2)"
   ]
  },
  {
   "cell_type": "markdown",
   "id": "45f1643d",
   "metadata": {},
   "source": [
    "### b)id(book1) and id(book2) will have same value"
   ]
  },
  {
   "cell_type": "markdown",
   "id": "ff8344b4",
   "metadata": {},
   "source": [
    "## Module - Data Analysis"
   ]
  },
  {
   "cell_type": "code",
   "execution_count": null,
   "id": "758005be",
   "metadata": {},
   "outputs": [],
   "source": [
    "import pandas as pd\n",
    "\n",
    "\n",
    "data = {\n",
    "    'Date': ['2024-01-01', '2024-01-02', '2024-01-03','2024-01-10','2024-01-09','2024-01-08'],\n",
    "    'Category': ['Beverage', 'Food', 'Beverage','Beverage','Beverage','Food'],\n",
    "    'Product': ['Cappuccino', 'Croissant', 'Espresso','Latte','Latte','Muffin'],\n",
    "    'Customer_id': ['C004','C002','C001','C001','C003','C002'],\n",
    "    'Quantity': [1, 2, 2,3,1,1],\n",
    "    'UnitPrice': [3, 2,2,3.5,3.5,2.5]}\n",
    "\n",
    "\n",
    "df = pd.DataFrame(data)\n",
    "df\n"
   ]
  },
  {
   "cell_type": "markdown",
   "id": "370c7246",
   "metadata": {},
   "source": [
    "## 16.How to create a new column \"Revenue\" which has value equal to the Quantity * UnitPrice\" of the current row?"
   ]
  },
  {
   "cell_type": "code",
   "execution_count": null,
   "id": "63308601",
   "metadata": {},
   "outputs": [],
   "source": [
    "df['Revenue'] = df['Quantity'] * df['UnitPrice']"
   ]
  },
  {
   "cell_type": "markdown",
   "id": "04fb52bd",
   "metadata": {},
   "source": [
    "- This line of code adds a new column named \"Revenue\" to the DataFrame df. The values in this column are calculated by multiplying the \"Quantity\" column with the \"UnitPrice\" column for each row in the DataFrame. This results in the revenue generated for each product in the corresponding row.\n",
    "- df['Quantity'] accesses the \"Quantity\" column of the DataFrame.\n",
    "- df['UnitPrice'] accesses the \"UnitPrice\" column of the DataFrame.\n",
    "- df['Quantity'] * df['UnitPrice'] performs element-wise multiplication of the \"Quantity\" and \"UnitPrice\" columns, resulting in a new Series.\n",
    "- df['Revenue'] = df['Quantity'] * df['UnitPrice'] assigns this new Series to a new column named \"Revenue\" in the DataFrame."
   ]
  },
  {
   "cell_type": "code",
   "execution_count": null,
   "id": "287e2d13",
   "metadata": {},
   "outputs": [],
   "source": [
    "df"
   ]
  },
  {
   "cell_type": "markdown",
   "id": "2b3f98d0",
   "metadata": {},
   "source": [
    "## 17.What is the syntax to find Categorical wise revenue?"
   ]
  },
  {
   "cell_type": "code",
   "execution_count": null,
   "id": "74617434",
   "metadata": {},
   "outputs": [],
   "source": [
    "df.groupby('Category')['Revenue'].sum()\n"
   ]
  },
  {
   "cell_type": "markdown",
   "id": "df63bca9",
   "metadata": {},
   "source": [
    "- df.groupby('Category'): This groups the DataFrame by the 'Category' column.\n",
    "- ['Revenue']: It selects the 'Revenue' column from the grouped data.\n",
    "- .sum(): This calculates the sum of the 'Revenue' column for each category group."
   ]
  },
  {
   "cell_type": "markdown",
   "id": "5c1cc203",
   "metadata": {},
   "source": [
    "## 18.Tofind the average quantity wrt to date and product ,what is the correct syntax?"
   ]
  },
  {
   "cell_type": "code",
   "execution_count": null,
   "id": "cd6df6ef",
   "metadata": {},
   "outputs": [],
   "source": [
    "df.groupby(['Date', 'Product'])['Quantity'].mean()"
   ]
  },
  {
   "cell_type": "markdown",
   "id": "ddf87f4a",
   "metadata": {},
   "source": [
    "- df.groupby(['Date', 'Product']): This groups the DataFrame by the 'Date' and 'Product' columns.\n",
    "- ['Quantity']: It selects the 'Quantity' column from the grouped data.\n",
    "- .mean(): This calculates the mean (average) of the 'Quantity' column for each unique combination of date and product."
   ]
  },
  {
   "cell_type": "markdown",
   "id": "d525de9e",
   "metadata": {},
   "source": [
    "## 19.Categorical wise revenue for Beverage and food respectively are"
   ]
  },
  {
   "cell_type": "code",
   "execution_count": null,
   "id": "8c23118f",
   "metadata": {},
   "outputs": [],
   "source": [
    "df['Revenue'] = df['Quantity'] * df['UnitPrice']"
   ]
  },
  {
   "cell_type": "markdown",
   "id": "78aec166",
   "metadata": {},
   "source": [
    "- df['Quantity'] accesses the \"Quantity\" column of the DataFrame.\n",
    "- df['UnitPrice'] accesses the \"UnitPrice\" column of the DataFrame.\n",
    "- df['Quantity'] * df['UnitPrice'] performs element-wise multiplication of the \"Quantity\" and \"UnitPrice\" columns, resulting in a new Series.\n",
    "- df['Revenue'] = df['Quantity'] * df['UnitPrice'] assigns this new Series to a new column named \"Revenue\" in the DataFrame.\n",
    "\n"
   ]
  },
  {
   "cell_type": "code",
   "execution_count": null,
   "id": "bca819c7",
   "metadata": {},
   "outputs": [],
   "source": [
    "beverage_rev = df[df['Category'] == 'Beverage']['Revenue'].sum()\n",
    "beverage_rev"
   ]
  },
  {
   "cell_type": "markdown",
   "id": "a84eb1eb",
   "metadata": {},
   "source": [
    "- df[df['Category'] == 'Beverage']: This filters the DataFrame to include only rows where the 'Category' is 'Beverage'. \n",
    "- ['Revenue']: It selects the 'Revenue' column from the filtered data.\n",
    "- .sum(): This calculates the sum of the 'Revenue' column for the filtered data."
   ]
  },
  {
   "cell_type": "code",
   "execution_count": null,
   "id": "4a453817",
   "metadata": {},
   "outputs": [],
   "source": [
    "food_rev = df[df['Category'] == 'Food']['Revenue'].sum()\n",
    "food_rev"
   ]
  },
  {
   "cell_type": "markdown",
   "id": "5b76a275",
   "metadata": {},
   "source": [
    "- df[df['Category'] == 'Food']: Filters the DataFrame to include only rows where the 'Category' is 'Food'.\n",
    "- ['Revenue']: Selects the 'Revenue' column from the filtered data.\n",
    "- .sum(): Calculates the sum of the 'Revenue' column for the filtered data."
   ]
  },
  {
   "cell_type": "markdown",
   "id": "c1b59eb7",
   "metadata": {},
   "source": [
    "## 20. Using transform ,what is the syntax to create a column which has a unitprice difference wrt its category  mean?"
   ]
  },
  {
   "cell_type": "code",
   "execution_count": null,
   "id": "a4171db7",
   "metadata": {},
   "outputs": [],
   "source": [
    "df.groupby('Category')['UnitPrice'].transform(lambda x: x - x.mean())"
   ]
  },
  {
   "cell_type": "markdown",
   "id": "4d22eb05",
   "metadata": {},
   "source": [
    "- df.groupby('Category'): Groups the DataFrame by the 'Category' column.\n",
    "-['UnitPrice']: Selects the 'UnitPrice' column for further operations.\n",
    "- .transform(lambda x: x - x.mean()): Applies a transformation to each group, subtracting the mean of the 'UnitPrice' column within that category from each value in the 'UnitPrice' column. This calculates the unit price difference with respect to the category mean.\n",
    "- The result is a new column showing the unit price difference for each row with respect to its category mean. The output you provided indicates the values of this new column for the first six rows of the DataFrame."
   ]
  },
  {
   "cell_type": "markdown",
   "id": "afafdc20",
   "metadata": {},
   "source": [
    "## 21. What is the correct syntax to get data wrt 'Monday'?"
   ]
  },
  {
   "cell_type": "code",
   "execution_count": null,
   "id": "9575acfd",
   "metadata": {},
   "outputs": [],
   "source": [
    "df['Date'] = pd.to_datetime(df['Date'])"
   ]
  },
  {
   "cell_type": "code",
   "execution_count": null,
   "id": "f6b70abb",
   "metadata": {},
   "outputs": [],
   "source": [
    "df.groupby(df.Date.dt.day_name()).get_group('Monday')"
   ]
  },
  {
   "cell_type": "markdown",
   "id": "057120a1",
   "metadata": {},
   "source": [
    "- pd.to_datetime(df['Date']): This converts the 'Date' column to a datetime format if it's not already.\n",
    "\n",
    "- df['Date'].dt.day_name() == 'Monday': This extracts the day name from the 'Date' column using the dt accessor and checks if it is equal to 'Monday'. This results in a boolean mask.\n",
    "\n",
    "- df[df['Date'].dt.day_name() == 'Monday']: This uses the boolean mask to filter the DataFrame, retaining only the rows where the day is 'Monday'."
   ]
  },
  {
   "cell_type": "markdown",
   "id": "3d0856cb",
   "metadata": {},
   "source": [
    "## 22. which of the following statement is/are True?"
   ]
  },
  {
   "cell_type": "markdown",
   "id": "745cf8c1",
   "metadata": {},
   "source": [
    "a) apply() can be applied on rows\n",
    "\n",
    "b) Apply function can't be applied on rows\n",
    "\n",
    "c)Apply applies the function on the entire series at a time\n",
    "\n",
    "d)Apply applies the function one cell at a time"
   ]
  },
  {
   "cell_type": "markdown",
   "id": "058a5d02",
   "metadata": {},
   "source": [
    "### a) apply() can be applied on rows\n",
    "### c)Apply applies the function on the entire series at a time"
   ]
  },
  {
   "cell_type": "markdown",
   "id": "e67dc6bb",
   "metadata": {},
   "source": [
    "- The apply function in pandas applies the provided function along the axis of the DataFrame or Series. If you don't specify the axis, it applies the function to each column by default. If you specify axis=1, it applies the function to each row.\n",
    "\n",
    "* apply() can be applied on rows if you set the axis parameter accordingly."
   ]
  },
  {
   "cell_type": "markdown",
   "id": "de87d3a8",
   "metadata": {},
   "source": [
    "## 23. Which of the following statement is/are True ?"
   ]
  },
  {
   "cell_type": "markdown",
   "id": "de11fb6b",
   "metadata": {},
   "source": [
    "a) Map applies the functionality on the entire DataFrame\n",
    "\n",
    "b)Applymap applies the functionality on series  be it row or a column\n",
    "\n",
    "c) Apply and map are vectorized applications\n",
    "\n",
    "d) None of the above"
   ]
  },
  {
   "cell_type": "markdown",
   "id": "3c094c75",
   "metadata": {},
   "source": [
    "#### c) apply and map are vectorized applications.\n",
    "- a) This statement is not entirely accurate. map applies a function element-wise on a Series, not the entire DataFrame. However, apply can apply a function to the entire DataFrame or along a specific axis (row-wise or column-wise).\n",
    "\n",
    "- b) This statement is incorrect. applymap applies a function element-wise on the entire DataFrame, not just on a Series.\n",
    "\n",
    "- c) This statement is correct. Both apply and map are vectorized operations, meaning they operate on entire arrays (columns or Series) at once, rather than iterating through individual elements."
   ]
  },
  {
   "cell_type": "code",
   "execution_count": null,
   "id": "f8b2250e",
   "metadata": {},
   "outputs": [],
   "source": [
    "\n",
    "data = {\n",
    "    'Date': ['2024-01-10', '2024-01-11', '2024-01-10','2024-01-12','2024-01-11','2024-01-12'],\n",
    "    'Region': ['North', 'South', 'East','West','North','East'],\n",
    "    'Salesperson': ['Ajay', 'Balu', 'Chirag','Ajay','Balu','Chiraj'],\n",
    "    'Product': ['Notebook', 'Pen', 'Notebook','Pen','Binder','Binder'],\n",
    "    'Quantity': [5, 10, 7,15,20,10],\n",
    "    'UnitPrice': [12, 3, 12,3,5,5]\n",
    "}\n",
    "\n",
    "df1= pd.DataFrame(data)\n",
    "\n",
    "df1\n"
   ]
  },
  {
   "cell_type": "markdown",
   "id": "de8b81d6",
   "metadata": {},
   "source": [
    "## 24. what is the syntax to create a pivot table with index as North  and south and columns as product where values are sun of Quantities sold?"
   ]
  },
  {
   "cell_type": "code",
   "execution_count": null,
   "id": "3dd8c2d5",
   "metadata": {},
   "outputs": [],
   "source": [
    "df1[df1['Region'].isin(['North', 'South'])].pivot_table(index='Product', columns='Region', values='Quantity', aggfunc='sum')"
   ]
  },
  {
   "cell_type": "markdown",
   "id": "83a5a366",
   "metadata": {},
   "source": [
    "- values='Quantity': This specifies the column whose values will be aggregated (summed in this case).\n",
    "\n",
    "- index='Region': This sets the 'Region' column as the index of the pivot table.\n",
    "\n",
    "- columns='Product': This sets the 'Product' column as the columns of the pivot table.\n",
    "\n",
    "- aggfunc='sum': This specifies the aggregation function, which is 'sum' in this case."
   ]
  },
  {
   "cell_type": "markdown",
   "id": "e9a914b0",
   "metadata": {},
   "source": [
    "## 25.Which of the following  statement is /are True?\n",
    "a) .iloc method includes include the last element when used for slicing\n",
    "\n",
    "b).loc mrthod doesnot includes the last element when used fo slicing\n",
    "\n",
    "c)We can use .loc method and pass default integer index of row when slicing \n",
    "\n",
    "d)None of above"
   ]
  },
  {
   "cell_type": "markdown",
   "id": "48e973f8",
   "metadata": {},
   "source": [
    "- a) .iloc is primarily integer-location based indexing, and when you use it for slicing, it includes the last element in the specified range.\n",
    "\n",
    "- b) .loc is label-based indexing, and when you use it for slicing, it includes the start but excludes the end.\n",
    "\n",
    "- c) This statement is not entirely accurate. When using .loc for slicing, you typically provide labels (not default integer index values). If you pass integer values, it will interpret them as labels, not default integer positions."
   ]
  },
  {
   "cell_type": "markdown",
   "id": "7dddbf6a",
   "metadata": {},
   "source": [
    "## 26. using a pivot table is it possible to create a multi index dataframe ,if so what is  the syntax to have a multi index of data and Region  with total Product sold as value"
   ]
  },
  {
   "cell_type": "code",
   "execution_count": null,
   "id": "7c292fa5",
   "metadata": {},
   "outputs": [],
   "source": [
    "df.pivot_table(index=['Date', 'Region'],columns='Product',values='Quantity',aggfunc='sum')"
   ]
  },
  {
   "cell_type": "markdown",
   "id": "fa31921d",
   "metadata": {},
   "source": [
    "- df: This assumes you have a DataFrame named df with columns like 'Date', 'Region', 'Product', and 'Quantity'.\n",
    "\n",
    "- pivot_table(): This is a pandas function used to create a pivot table from a DataFrame.\n",
    "\n",
    "- index=['Date', 'Region']: This specifies that the columns 'Date' and 'Region' will form the multi-index for the rows of the pivot table. It means that the table will be indexed based on the unique combinations of 'Date' and 'Region'.\n",
    "\n",
    "- columns='Product': This sets the 'Product' column as the columns of the pivot table. Each unique value in the 'Product' column will become a column in the resulting pivot table.\n",
    "\n",
    "- values='Quantity': This specifies that the values in the pivot table will be taken from the 'Quantity' column of the original DataFrame.\n",
    "\n",
    "- aggfunc='sum': This specifies the aggregation function to be applied. In this case, it's 'sum', meaning that the values for each combination of 'Date', 'Region', and 'Product' will be summed."
   ]
  },
  {
   "cell_type": "markdown",
   "id": "c069c0b2",
   "metadata": {},
   "source": [
    "## 27. what does the margins parameter in the pivot_table() function allowyou to include in the pivot table?"
   ]
  },
  {
   "cell_type": "markdown",
   "id": "8b53aeca",
   "metadata": {},
   "source": [
    "a) Additional margins and subtotals for rows and columns\n",
    "\n",
    "b) A list of column name to exclude from to pivot table\n",
    "\n",
    "c) The number of rows and columns to skip at the beginning of the pivot table\n",
    "\n",
    "d)The maximum number of rows and columns to display in the pivot table"
   ]
  },
  {
   "cell_type": "markdown",
   "id": "b2cea845",
   "metadata": {},
   "source": [
    "#### a) Additional margins and subtotals for rows and columns\n",
    "\n",
    "* The margins parameter in the pivot_table() function in pandas allows you to include additional margins and subtotals for rows and columns in the pivot table. Setting margins=True adds the margins to the pivot table, providing totals for rows and columns. This can be useful for getting an overview of the data and understanding the totals for different combinations.\n"
   ]
  },
  {
   "cell_type": "code",
   "execution_count": null,
   "id": "a7dec24c",
   "metadata": {},
   "outputs": [],
   "source": [
    "import numpy as np"
   ]
  },
  {
   "cell_type": "code",
   "execution_count": null,
   "id": "312b9ebe",
   "metadata": {},
   "outputs": [],
   "source": [
    "data = {\n",
    "    'Fruits': ['apple', 'banana', 'apple', 'apple', 'banana', 'apple', 'kiwi',\n",
    "               'kiwi', 'banana', 'apple', 'kiwi', 'apple', 'banana', 'grape',\n",
    "               'apple', 'banana', 'apple', 'apple', 'apple'],\n",
    "    'Price': [np.nan, np.nan, 205, 200, 40, 210, 300, 320, np.nan, 180, 350,np.nan, 35, np.nan, 215, 40, np.nan, np.nan, np.nan]\n",
    "}\n",
    "\n",
    "df2 = pd.DataFrame(data)"
   ]
  },
  {
   "cell_type": "code",
   "execution_count": null,
   "id": "196352a3",
   "metadata": {},
   "outputs": [],
   "source": [
    "df2"
   ]
  },
  {
   "cell_type": "markdown",
   "id": "894ee544",
   "metadata": {},
   "source": [
    "## 28 . if we choose to impute missing value in  Price  col by chaining ffill() and bfill() while limiting the imputation to 1,1 respectively ,how many missing values will be left post imputation"
   ]
  },
  {
   "cell_type": "code",
   "execution_count": null,
   "id": "fe6ae4be",
   "metadata": {},
   "outputs": [],
   "source": [
    "df2['Price'] = df2['Price'].ffill(limit=1).bfill(limit=1)"
   ]
  },
  {
   "cell_type": "markdown",
   "id": "cb4b604b",
   "metadata": {},
   "source": [
    "- The code is addressing missing values in the 'Price' column of the DataFrame df2.\n",
    "- ffill(limit=1) is used to forward fill missing values, limiting the imputation to only 1 forward fill.\n",
    "- Subsequently, bfill(limit=1) is applied to backward fill any remaining missing values, limiting the imputation to only 1 backward"
   ]
  },
  {
   "cell_type": "code",
   "execution_count": null,
   "id": "cc828156",
   "metadata": {},
   "outputs": [],
   "source": [
    "x = df2['Price'].isnull().sum()\n",
    "x"
   ]
  },
  {
   "cell_type": "markdown",
   "id": "f2d3d5a0",
   "metadata": {},
   "source": [
    "- df2['Price'].isnull() checks for missing values in the 'Price' column of the DataFrame df2. It returns a boolean Series where True indicates a missing value and False indicates a non-missing value.\n",
    "\n",
    "- .sum() is then used to calculate the sum of True values, effectively giving the total count of missing values in the 'Price' column."
   ]
  },
  {
   "cell_type": "markdown",
   "id": "06abee3e",
   "metadata": {},
   "source": [
    "## 29.What kind of missing values handling technique is appropriate for df2?"
   ]
  },
  {
   "cell_type": "markdown",
   "id": "1def9045",
   "metadata": {},
   "source": [
    "a) Imputing Price col with Price's mean\n",
    "\n",
    "b) Imputing Price col with Price's median\n",
    "\n",
    "c)Imputing Price col with  individual friuts'Price median\n",
    "\n",
    "d)Dropping missing values"
   ]
  },
  {
   "cell_type": "markdown",
   "id": "a637b872",
   "metadata": {},
   "source": [
    "##### (c) Imputing Price col with individual fruits' Price median\n",
    "The median is less sensitive to outliers compared to the mean, making it a robust choice, especially if the distribution of prices is skewed or has outliers. Imputing with the median provides a reasonable estimate of the central tendency of the data while being less influenced by extreme values.\n"
   ]
  },
  {
   "cell_type": "markdown",
   "id": "89f8229c",
   "metadata": {},
   "source": [
    "## 30 If we choose to impute missing values in Price col by with individual Fruits'Price's mean ,how many missing values will be post imputation"
   ]
  },
  {
   "cell_type": "code",
   "execution_count": null,
   "id": "4e8d6bd0",
   "metadata": {},
   "outputs": [],
   "source": [
    "df2['Price'] = df2.groupby('Fruits')['Price'].transform(lambda x: x.fillna(x.mean()))"
   ]
  },
  {
   "cell_type": "markdown",
   "id": "d3e1dca5",
   "metadata": {},
   "source": [
    "- df2.groupby('Fruits')['Price']: This groups the DataFrame df2 by the 'Fruits' column and selects the 'Price' column for further operations.\n",
    "\n",
    "- .transform(lambda x: x.fillna(x.mean())): For each group of 'Fruits', it applies a transformation using a lambda function. The lambda function replaces missing values in the 'Price' column with the mean of non-missing values within that group.\n",
    "\n",
    "- x.fillna(x.mean()): For each group 'x', it fills missing values in the 'Price' column with the mean of non-missing values in that group.\n",
    "- The result is assigned back to the 'Price' column of df2, effectively imputing missing values in 'Price' with the mean of each fruit's prices."
   ]
  },
  {
   "cell_type": "code",
   "execution_count": null,
   "id": "fae6b8a1",
   "metadata": {},
   "outputs": [],
   "source": [
    "df2['Price'].isnull().sum()"
   ]
  },
  {
   "cell_type": "markdown",
   "id": "afd94d9e",
   "metadata": {},
   "source": [
    "- df2['Price'].isnull(): This part creates a boolean mask where each element is True if the corresponding value in the 'Price' column is missing (null) and False otherwise.\n",
    "\n",
    "- .sum(): This method then calculates the sum of True values in the boolean mask, effectively counting the number of missing values in the 'Price' column."
   ]
  },
  {
   "cell_type": "markdown",
   "id": "cc9e5c33",
   "metadata": {},
   "source": [
    "## 31.if  a=pd.Series([np.nan,1,2,np.nan,np.nan,np.nan,np.nan,4,5,7]) what  will be  the output of a.interpolate"
   ]
  },
  {
   "cell_type": "markdown",
   "id": "9fddf9fe",
   "metadata": {},
   "source": [
    "The interpolate function in pandas is used to fill NaN values using various interpolation methods"
   ]
  },
  {
   "cell_type": "code",
   "execution_count": null,
   "id": "9f5f5377",
   "metadata": {},
   "outputs": [],
   "source": [
    "a=pd.Series([np.nan,1,2,np.nan,np.nan,np.nan,np.nan,4,5,7])"
   ]
  },
  {
   "cell_type": "code",
   "execution_count": null,
   "id": "c2a54a68",
   "metadata": {},
   "outputs": [],
   "source": [
    "a.interpolate()"
   ]
  },
  {
   "cell_type": "markdown",
   "id": "e1ea5998",
   "metadata": {},
   "source": [
    "- The interpolate() function in pandas is applied to the Series 'a'.\n",
    "- It fills NaN values in the Series using linear interpolation.\n",
    "- The result is a Series with NaN values replaced based on linear interpolation between neighboring non-NaN values.\n",
    "- the missing values are filled using linear interpolation. The missing value at index 0 is not filled because there are no preceding values to interpolate from. Linear interpolation is applied between existing values, and you can see that the NaN values are filled accordingly."
   ]
  },
  {
   "cell_type": "markdown",
   "id": "9bfa6fbc",
   "metadata": {},
   "source": [
    "## 32.what is the use of the normalization parameter in the crosstab method of pandas?"
   ]
  },
  {
   "cell_type": "markdown",
   "id": "16d98ce7",
   "metadata": {},
   "source": [
    "a) it used to normalize values by dividing them by the total count\n",
    "\n",
    "b)to add margins\n",
    "\n",
    "c) there is no parameter called as normalize in crosstab\n",
    "\n",
    "d)both a & c"
   ]
  },
  {
   "cell_type": "markdown",
   "id": "2aa8b57e",
   "metadata": {},
   "source": [
    "### a) It is used to normalize values by dividing them by the total count"
   ]
  },
  {
   "cell_type": "markdown",
   "id": "4bb4067f",
   "metadata": {},
   "source": [
    "In the pd.crosstab method in pandas, the normalize parameter is used to normalize the values by dividing them by the total count. By setting normalize to True, the resulting table will display proportions or percentages instead of counts. This is useful when you want to see the relative frequencies of the cross-tabulated variables."
   ]
  },
  {
   "cell_type": "code",
   "execution_count": null,
   "id": "61622b6f",
   "metadata": {},
   "outputs": [],
   "source": []
  },
  {
   "cell_type": "code",
   "execution_count": null,
   "id": "e31563de",
   "metadata": {},
   "outputs": [],
   "source": []
  }
 ],
 "metadata": {
  "kernelspec": {
   "display_name": "Python 3 (ipykernel)",
   "language": "python",
   "name": "python3"
  },
  "language_info": {
   "codemirror_mode": {
    "name": "ipython",
    "version": 3
   },
   "file_extension": ".py",
   "mimetype": "text/x-python",
   "name": "python",
   "nbconvert_exporter": "python",
   "pygments_lexer": "ipython3",
   "version": "3.11.5"
  }
 },
 "nbformat": 4,
 "nbformat_minor": 5
}
