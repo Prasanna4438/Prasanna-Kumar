{
 "cells": [
  {
   "cell_type": "code",
   "execution_count": 171,
   "id": "5c8c583f",
   "metadata": {},
   "outputs": [],
   "source": [
    "import numpy as np"
   ]
  },
  {
   "cell_type": "code",
   "execution_count": 172,
   "id": "3213b014",
   "metadata": {},
   "outputs": [],
   "source": [
    "from numpy import genfromtxt"
   ]
  },
  {
   "cell_type": "code",
   "execution_count": 235,
   "id": "c68de9e5",
   "metadata": {},
   "outputs": [],
   "source": [
    "fpath = (\"tipsf.csv\")"
   ]
  },
  {
   "cell_type": "code",
   "execution_count": 236,
   "id": "33c7d01e",
   "metadata": {},
   "outputs": [
    {
     "name": "stdout",
     "output_type": "stream",
     "text": [
      "[[0.00 16.99 1.01 ... 1.00 0.00 2.00]\n",
      " [1.00 10.34 1.66 ... 1.00 0.00 3.00]\n",
      " [2.00 21.01 3.50 ... 1.00 0.00 3.00]\n",
      " ...\n",
      " [241.00 22.67 2.00 ... 0.00 0.00 2.00]\n",
      " [242.00 17.82 1.75 ... 0.00 0.00 2.00]\n",
      " [243.00 18.78 3.00 ... 2.00 0.00 2.00]]\n"
     ]
    }
   ],
   "source": [
    "data = np.genfromtxt(fpath,delimiter = ',',skip_header = True)\n",
    "print(data)"
   ]
  },
  {
   "cell_type": "markdown",
   "id": "426ca1f2",
   "metadata": {},
   "source": [
    "-  To Calculate the total bill Value."
   ]
  },
  {
   "cell_type": "code",
   "execution_count": 253,
   "id": "7b8c6cf1",
   "metadata": {},
   "outputs": [
    {
     "data": {
      "text/plain": [
       "4827.77"
      ]
     },
     "execution_count": 253,
     "metadata": {},
     "output_type": "execute_result"
    }
   ],
   "source": [
    "data[:,1].sum() "
   ]
  },
  {
   "cell_type": "markdown",
   "id": "1c001b66",
   "metadata": {},
   "source": [
    "- To Calculate the total tip Value"
   ]
  },
  {
   "cell_type": "code",
   "execution_count": 238,
   "id": "ff8d72ee",
   "metadata": {},
   "outputs": [
    {
     "data": {
      "text/plain": [
       "731.5799999999999"
      ]
     },
     "execution_count": 238,
     "metadata": {},
     "output_type": "execute_result"
    }
   ],
   "source": [
    "data[:,2].sum() # Total tip value"
   ]
  },
  {
   "cell_type": "markdown",
   "id": "06dc9e0c",
   "metadata": {},
   "source": [
    "- Total Number of days"
   ]
  },
  {
   "cell_type": "code",
   "execution_count": 239,
   "id": "51a41e13",
   "metadata": {},
   "outputs": [
    {
     "data": {
      "text/plain": [
       "(array([0.00, 1.00, 2.00, 3.00]), array([87, 76, 62, 19], dtype=int64))"
      ]
     },
     "execution_count": 239,
     "metadata": {},
     "output_type": "execute_result"
    }
   ],
   "source": [
    "np.unique(data[:,5], return_counts=True) # Total NO.Of days(sun, sat, thu, fri)"
   ]
  },
  {
   "cell_type": "code",
   "execution_count": 240,
   "id": "57c02775",
   "metadata": {},
   "outputs": [
    {
     "name": "stdout",
     "output_type": "stream",
     "text": [
      "Number Of 0.0: 87\n",
      "Number Of 1.0: 76\n",
      "Number Of 2.0: 62\n",
      "Number Of 3.0: 19\n"
     ]
    }
   ],
   "source": [
    "sun_sat_fri_thu = data[:, 5]\n",
    "\n",
    "unique_values, counts = np.unique(sun_sat_fri_thu, return_counts=True)\n",
    "\n",
    "for value, count in zip(unique_values, counts):\n",
    "    print(f\"Number Of {value}: {count}\")\n",
    "\n"
   ]
  },
  {
   "cell_type": "markdown",
   "id": "56606aee",
   "metadata": {},
   "source": [
    "-  How many smokers:"
   ]
  },
  {
   "cell_type": "code",
   "execution_count": 241,
   "id": "57b36c67",
   "metadata": {},
   "outputs": [
    {
     "name": "stdout",
     "output_type": "stream",
     "text": [
      "Number Of 0.0: 151\n",
      "Number Of 1.0: 93\n"
     ]
    }
   ],
   "source": [
    "smokers = data[:, 4]\n",
    "\n",
    "unique_values, counts = np.unique(smokers, return_counts=True) #\n",
    "\n",
    "for value, count in zip(unique_values, counts):\n",
    "    print(f\"Number Of {value}: {count}\")"
   ]
  },
  {
   "cell_type": "code",
   "execution_count": 242,
   "id": "fd596bba",
   "metadata": {},
   "outputs": [
    {
     "data": {
      "text/plain": [
       "93.0"
      ]
     },
     "execution_count": 242,
     "metadata": {},
     "output_type": "execute_result"
    }
   ],
   "source": [
    "data[:,4].sum() # Total Number Of smokers."
   ]
  },
  {
   "cell_type": "markdown",
   "id": "d233d49d",
   "metadata": {},
   "source": [
    "-  Average tip by Male and Female:"
   ]
  },
  {
   "cell_type": "code",
   "execution_count": 243,
   "id": "e620a3ea",
   "metadata": {},
   "outputs": [
    {
     "name": "stdout",
     "output_type": "stream",
     "text": [
      "Average tip for males: 2.8334482758620685\n",
      "Average tip for males: 3.0896178343949043\n"
     ]
    }
   ],
   "source": [
    "tip =data[:,2]\n",
    "sex =data[:,3]\n",
    "tip_male = np.mean(tip[sex == 0])\n",
    "print(\"Average tip for males:\", tip_male)\n",
    "tip_female = np.mean(tip[sex == 1])\n",
    "print(\"Average tip for males:\", tip_female)"
   ]
  },
  {
   "cell_type": "markdown",
   "id": "eb1d70cf",
   "metadata": {},
   "source": [
    "-  Total bill value Male and Female"
   ]
  },
  {
   "cell_type": "code",
   "execution_count": 252,
   "id": "3b558054",
   "metadata": {},
   "outputs": [
    {
     "name": "stdout",
     "output_type": "stream",
     "text": [
      "Total Amount Spent by males: 1817.4599999999996\n",
      "Total Amount Spent by Female: 3741.89\n"
     ]
    }
   ],
   "source": [
    "tip = data[:, 2]\n",
    "amount =data[:,1]\n",
    "sex =data[:,3]\n",
    "total = np.sum(amount[sex == 0])\n",
    "tip_male = np.sum(tip[sex == 0])\n",
    "total_amount_male = total + tip_male\n",
    "print(\"Total Amount Spent by males:\", total_amount_male)# AMount spent by male and female\n",
    "total = np.sum(amount[sex == 1])\n",
    "tip_female = np.sum(tip[sex == 1])\n",
    "total_amount_female = total + tip_female\n",
    "print(\"Total Amount Spent by Female:\", total_amount_female)"
   ]
  },
  {
   "cell_type": "markdown",
   "id": "5ac9c4ce",
   "metadata": {},
   "source": [
    "- Maxium and Minimum tip"
   ]
  },
  {
   "cell_type": "code",
   "execution_count": 219,
   "id": "6b2af282",
   "metadata": {},
   "outputs": [
    {
     "name": "stdout",
     "output_type": "stream",
     "text": [
      "Minimum Tip: 1.0\n",
      "Maximum Tip: 10.0\n"
     ]
    }
   ],
   "source": [
    "tip = data[:, 2]\n",
    "x = np.min(tip)\n",
    "print(\"Minimum Tip:\", x)\n",
    "y = np.max(tip)\n",
    "print(\"Maximum Tip:\", y)"
   ]
  },
  {
   "cell_type": "markdown",
   "id": "fdb51e00",
   "metadata": {},
   "source": [
    "-  Male and Female Lunch, Dinner"
   ]
  },
  {
   "cell_type": "code",
   "execution_count": 226,
   "id": "84233328",
   "metadata": {},
   "outputs": [
    {
     "name": "stdout",
     "output_type": "stream",
     "text": [
      "No of male lunch: 52\n",
      "No of female lunch: 124\n",
      "No of male Dinner: 52\n",
      "No of female Dinner: 124\n"
     ]
    }
   ],
   "source": [
    "gender = data[:,3]\n",
    "time = data[:,6]\n",
    "male_lunch = np.sum((gender == 0) & (time == 1))\n",
    "female_lunch = np.sum((gender == 1) & (time == 1))\n",
    "male_lunch = np.sum((gender == 0) & (time == 0))\n",
    "female_lunch = np.sum((gender == 1) & (time == 0))\n",
    "print(\"No of male lunch:\", male_lunch )\n",
    "print(\"No of female lunch:\",female_lunch)\n",
    "print(\"No of male Dinner:\", male_lunch )\n",
    "print(\"No of female Dinner:\",female_lunch)"
   ]
  },
  {
   "cell_type": "markdown",
   "id": "137579bd",
   "metadata": {},
   "source": [
    "- Average value of size"
   ]
  },
  {
   "cell_type": "code",
   "execution_count": 231,
   "id": "e58907ff",
   "metadata": {},
   "outputs": [
    {
     "data": {
      "text/plain": [
       "2.569672131147541"
      ]
     },
     "execution_count": 231,
     "metadata": {},
     "output_type": "execute_result"
    }
   ],
   "source": [
    "size = data[:, 7]\n",
    "np.mean(size)\n"
   ]
  },
  {
   "cell_type": "markdown",
   "id": "28d9a856",
   "metadata": {},
   "source": [
    "- Number of smokers male and female:"
   ]
  },
  {
   "cell_type": "code",
   "execution_count": 232,
   "id": "603fe926",
   "metadata": {},
   "outputs": [
    {
     "name": "stdout",
     "output_type": "stream",
     "text": [
      "No of male smokers: 33\n",
      "No of female smokers: 60\n"
     ]
    }
   ],
   "source": [
    "smoker = data[:, 4]\n",
    "gender = data[:, 3]\n",
    "x= np.sum((gender == 0) & (smoker == 1))\n",
    "y = np.sum((gender == 1) & (smoker == 1))\n",
    "print(\"No of male smokers:\", x)\n",
    "print(\"No of female smokers:\", y)"
   ]
  },
  {
   "cell_type": "code",
   "execution_count": null,
   "id": "a2b93c0b",
   "metadata": {},
   "outputs": [],
   "source": []
  }
 ],
 "metadata": {
  "kernelspec": {
   "display_name": "Python 3 (ipykernel)",
   "language": "python",
   "name": "python3"
  },
  "language_info": {
   "codemirror_mode": {
    "name": "ipython",
    "version": 3
   },
   "file_extension": ".py",
   "mimetype": "text/x-python",
   "name": "python",
   "nbconvert_exporter": "python",
   "pygments_lexer": "ipython3",
   "version": "3.11.5"
  }
 },
 "nbformat": 4,
 "nbformat_minor": 5
}
