{
 "cells": [
  {
   "cell_type": "code",
   "execution_count": 13,
   "id": "9ca22eba",
   "metadata": {},
   "outputs": [],
   "source": [
    "import numpy as np\n",
    "from scipy import stats"
   ]
  },
  {
   "cell_type": "code",
   "execution_count": 14,
   "id": "eeb8a4ec",
   "metadata": {},
   "outputs": [],
   "source": [
    "from numpy import genfromtxt"
   ]
  },
  {
   "cell_type": "code",
   "execution_count": 15,
   "id": "60cb590b",
   "metadata": {},
   "outputs": [],
   "source": [
    "fpath = (\"Sample_data.csv\")"
   ]
  },
  {
   "cell_type": "code",
   "execution_count": 16,
   "id": "0caf9678",
   "metadata": {},
   "outputs": [
    {
     "name": "stdout",
     "output_type": "stream",
     "text": [
      "[[ 0. 25. 40.]\n",
      " [ 1. 30. 35.]\n",
      " [ 2. 28. 38.]\n",
      " [ 3. 32. 41.]\n",
      " [ 4. 26. 37.]\n",
      " [ 5. 29. 36.]\n",
      " [ 6. 27. 39.]\n",
      " [ 7. 33. 42.]\n",
      " [ 8. 31. 38.]\n",
      " [ 9. 28. 37.]\n",
      " [10. 30. 40.]\n",
      " [11. 29. 36.]]\n"
     ]
    }
   ],
   "source": [
    "data = np.genfromtxt(fpath,delimiter = ',',skip_header = True)\n",
    "print(data)"
   ]
  },
  {
   "cell_type": "markdown",
   "id": "e385455a",
   "metadata": {},
   "source": [
    "### 1)1. Calculate the mean sales for Product A and Product B. Compare the average monthly sales for the two products and discuss any observed trends."
   ]
  },
  {
   "cell_type": "code",
   "execution_count": 17,
   "id": "da0385c9",
   "metadata": {},
   "outputs": [
    {
     "data": {
      "text/plain": [
       "array([25., 30., 28., 32., 26., 29., 27., 33., 31., 28., 30., 29.])"
      ]
     },
     "execution_count": 17,
     "metadata": {},
     "output_type": "execute_result"
    }
   ],
   "source": [
    "product_A=data[:,1]\n",
    "product_A"
   ]
  },
  {
   "cell_type": "code",
   "execution_count": 18,
   "id": "04340ad6",
   "metadata": {},
   "outputs": [
    {
     "data": {
      "text/plain": [
       "array([40., 35., 38., 41., 37., 36., 39., 42., 38., 37., 40., 36.])"
      ]
     },
     "execution_count": 18,
     "metadata": {},
     "output_type": "execute_result"
    }
   ],
   "source": [
    "product_B=data[:,2]\n",
    "product_B"
   ]
  },
  {
   "cell_type": "code",
   "execution_count": 19,
   "id": "24b1dba4",
   "metadata": {},
   "outputs": [
    {
     "name": "stdout",
     "output_type": "stream",
     "text": [
      "Mean sales for Product A: 29.0\n",
      "Mean sales for Product A: 38.25\n"
     ]
    }
   ],
   "source": [
    "mean_A =np.mean(product_A)\n",
    "mean_B =np.mean(product_B)\n",
    "\n",
    "print(f\"Mean sales for Product A: {mean_A}\")\n",
    "print(f\"Mean sales for Product A: {mean_B}\")"
   ]
  },
  {
   "cell_type": "markdown",
   "id": "9bf6e145",
   "metadata": {},
   "source": [
    "### 2) Find the median sales for each product and discuss how it reflects the central tendency of the sales distribution."
   ]
  },
  {
   "cell_type": "code",
   "execution_count": 20,
   "id": "695595df",
   "metadata": {},
   "outputs": [
    {
     "name": "stdout",
     "output_type": "stream",
     "text": [
      "Median sales for Product A: 29.0\n",
      "Median sales for Product A: 38.0\n"
     ]
    }
   ],
   "source": [
    "median_A =np.median(product_A)\n",
    "median_B = np.median(product_B)\n",
    "\n",
    "print(f\"Median sales for Product A: {median_A}\")\n",
    "print(f\"Median sales for Product A: {median_B}\")"
   ]
  },
  {
   "cell_type": "markdown",
   "id": "0d1ae87f",
   "metadata": {},
   "source": [
    "### 3)Identify the mode of the sales data for both Product A and Product B. Discuss the significance of the mode in the context of these products."
   ]
  },
  {
   "cell_type": "code",
   "execution_count": 35,
   "id": "9d04b1dc",
   "metadata": {},
   "outputs": [
    {
     "name": "stdout",
     "output_type": "stream",
     "text": [
      "mode sales for Product A: ModeResult(mode=28.0, count=2)\n",
      "mode sales for Product A: ModeResult(mode=36.0, count=2)\n"
     ]
    }
   ],
   "source": [
    "mode_product_A = stats.mode(product_A)\n",
    "mode_product_B = stats.mode(product_B)\n",
    "\n",
    "print(f\"mode sales for Product A: {mode_product_A}\")\n",
    "print(f\"mode sales for Product A: {mode_product_B}\")"
   ]
  },
  {
   "cell_type": "code",
   "execution_count": 37,
   "id": "ba4924e6",
   "metadata": {},
   "outputs": [
    {
     "name": "stdout",
     "output_type": "stream",
     "text": [
      "mode sales for Product A: 30.0\n",
      "mode sales for Product A: 40.0\n"
     ]
    }
   ],
   "source": [
    "import statistics\n",
    "x = statistics.mode(product_A)\n",
    "y = statistics.mode(product_B)\n",
    "\n",
    "print(f\"mode sales for Product A: {x}\")\n",
    "print(f\"mode sales for Product A: {y}\")"
   ]
  },
  {
   "cell_type": "markdown",
   "id": "7515be1b",
   "metadata": {},
   "source": [
    "### 4) Calculate the weighted mean of the sales data, assuming each month has an equal weight. Discuss any implications of using weighted mean in this context.\n"
   ]
  },
  {
   "cell_type": "code",
   "execution_count": 38,
   "id": "f740cccd",
   "metadata": {},
   "outputs": [
    {
     "name": "stdout",
     "output_type": "stream",
     "text": [
      "Mean sales for Product A: 29.0\n",
      "Mean sales for Product A: 38.25\n"
     ]
    }
   ],
   "source": [
    "weighted_mean_A =np.mean(product_A)\n",
    "weighted_mean_B =np.mean(product_B)\n",
    "\n",
    "print(f\"Mean sales for Product A: {weighted_mean_A}\")\n",
    "print(f\"Mean sales for Product A: {weighted_mean_B}\")"
   ]
  },
  {
   "cell_type": "markdown",
   "id": "0064a916",
   "metadata": {},
   "source": [
    "## Measures of Dispersion:"
   ]
  },
  {
   "cell_type": "markdown",
   "id": "ae06994e",
   "metadata": {},
   "source": [
    "### 1. Compute the range of monthly sales for both Product A and Product B. Discuss how the range provides insights into the variability of sales."
   ]
  },
  {
   "cell_type": "code",
   "execution_count": 41,
   "id": "b17edf86",
   "metadata": {},
   "outputs": [
    {
     "name": "stdout",
     "output_type": "stream",
     "text": [
      "[25. 30. 28. 32. 26. 29. 27. 33. 31. 28. 30. 29.]\n",
      "[40. 35. 38. 41. 37. 36. 39. 42. 38. 37. 40. 36.]\n"
     ]
    }
   ],
   "source": [
    "print(product_A)\n",
    "print(product_B)"
   ]
  },
  {
   "cell_type": "code",
   "execution_count": 42,
   "id": "705ab061",
   "metadata": {},
   "outputs": [
    {
     "name": "stdout",
     "output_type": "stream",
     "text": [
      "range of monthly sales for Product A : 8.0\n",
      "range of monthly sales for Product A : 7.0\n"
     ]
    }
   ],
   "source": [
    "range_A = np.max(product_A) - np.min(product_A)\n",
    "range_B = np.max(product_B) - np.min(product_B)\n",
    "\n",
    "print(f\"range of monthly sales for Product A : {range_A}\")\n",
    "print(f\"range of monthly sales for Product A : {range_B}\")"
   ]
  },
  {
   "cell_type": "markdown",
   "id": "e10d7d91",
   "metadata": {},
   "source": [
    "### 2. Calculate the variance of the sales data for both products. Discuss what the variance reveals about the spread of sales for each product."
   ]
  },
  {
   "cell_type": "code",
   "execution_count": 43,
   "id": "0e6cbb6e",
   "metadata": {},
   "outputs": [
    {
     "name": "stdout",
     "output_type": "stream",
     "text": [
      "variance of the sales for Product A : 5.166666666666667\n",
      "variance of the sales for Product A : 4.354166666666667\n"
     ]
    }
   ],
   "source": [
    "variance_A = np.var(product_A)\n",
    "variance_B = np.var(product_B)\n",
    "\n",
    "print(f\"variance of the sales for Product A : {variance_A}\")\n",
    "print(f\"variance of the sales for Product A : {variance_B}\")"
   ]
  },
  {
   "cell_type": "markdown",
   "id": "51eaf799",
   "metadata": {},
   "source": [
    "### 3. Determine the standard deviation of the sales for Product A and Product B. Discuss the significance of standard deviation in understanding the variability in sales."
   ]
  },
  {
   "cell_type": "code",
   "execution_count": 45,
   "id": "7098a826",
   "metadata": {},
   "outputs": [
    {
     "name": "stdout",
     "output_type": "stream",
     "text": [
      "standard variance of  sales for Product A : 2.273030282830976\n",
      "standard variance of  sales for Product A : 2.0866640042581523\n"
     ]
    }
   ],
   "source": [
    "standard_deviation_A = np.std(product_A)\n",
    "standard_deviation_B = np.std(product_B)\n",
    "\n",
    "print(f\"standard variance of  sales for Product A : {standard_deviation_A}\")\n",
    "print(f\"standard variance of  sales for Product A : {standard_deviation_B}\")"
   ]
  },
  {
   "cell_type": "markdown",
   "id": "9634bb91",
   "metadata": {},
   "source": [
    "# Relative Measures of Dispersion:"
   ]
  },
  {
   "cell_type": "markdown",
   "id": "388ef64b",
   "metadata": {},
   "source": [
    "### 1. Calculate the coefficient of variation for the sales data of Product A. Discuss how this relative measure of dispersion helps in comparing the variability of products with different average sales."
   ]
  },
  {
   "cell_type": "code",
   "execution_count": 48,
   "id": "25537320",
   "metadata": {},
   "outputs": [
    {
     "name": "stdout",
     "output_type": "stream",
     "text": [
      "coefficient variation of sales Product A : 7.838035458037848\n"
     ]
    }
   ],
   "source": [
    "coefficient_A = (standard_deviation_A / mean_A) * 100\n",
    "print(f\"coefficient variation of sales Product A : {coefficient_A}\")"
   ]
  },
  {
   "cell_type": "markdown",
   "id": "b0b431b3",
   "metadata": {},
   "source": [
    "### 2. Compute the relative range for Product B. Discuss how the relative range accounts for the scale of the sales data."
   ]
  },
  {
   "cell_type": "code",
   "execution_count": 51,
   "id": "c589cb29",
   "metadata": {},
   "outputs": [
    {
     "name": "stdout",
     "output_type": "stream",
     "text": [
      "Relative Range for sales Product B : 18.30065359477124\n"
     ]
    }
   ],
   "source": [
    "realtive_range_B = (range_B / mean_B) * 100\n",
    "print(f\"Relative Range for sales Product B : {realtive_range_B}\")"
   ]
  },
  {
   "cell_type": "markdown",
   "id": "ea6e4f61",
   "metadata": {},
   "source": [
    "### 3. Determine the relative standard deviation for Product A. Interpret the result and discuss its implications for understanding the variability relative to the mean."
   ]
  },
  {
   "cell_type": "code",
   "execution_count": 52,
   "id": "98fd0f0a",
   "metadata": {},
   "outputs": [
    {
     "name": "stdout",
     "output_type": "stream",
     "text": [
      "realtive standard devation for sales Product A : 7.838035458037848\n"
     ]
    }
   ],
   "source": [
    "realtive_standard_devation_A = (standard_deviation_A / mean_A) *100\n",
    "print(f\"realtive standard devation for sales Product A : {realtive_standard_devation_A}\")"
   ]
  },
  {
   "cell_type": "code",
   "execution_count": null,
   "id": "12b55c44",
   "metadata": {},
   "outputs": [],
   "source": []
  }
 ],
 "metadata": {
  "kernelspec": {
   "display_name": "Python 3 (ipykernel)",
   "language": "python",
   "name": "python3"
  },
  "language_info": {
   "codemirror_mode": {
    "name": "ipython",
    "version": 3
   },
   "file_extension": ".py",
   "mimetype": "text/x-python",
   "name": "python",
   "nbconvert_exporter": "python",
   "pygments_lexer": "ipython3",
   "version": "3.11.5"
  }
 },
 "nbformat": 4,
 "nbformat_minor": 5
}
